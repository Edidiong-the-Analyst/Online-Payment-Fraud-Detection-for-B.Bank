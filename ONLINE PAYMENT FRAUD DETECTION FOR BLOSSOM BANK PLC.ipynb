{
 "cells": [
  {
   "cell_type": "markdown",
   "id": "30d5639e",
   "metadata": {},
   "source": [
    "# Bossom Bank PLC - Online Payment Fraud Detection\n",
    "     prepared by Edidiong Udoh"
   ]
  },
  {
   "cell_type": "markdown",
   "id": "0bfde727",
   "metadata": {},
   "source": [
    "### PROBLEM STATEMENT: \n",
    "\n",
    "Experts can't help but acknowledge that as we enter a new online payment century, transaction fraud constitutes the most widespread sort of fraud in online business. Payment fraud detection is currently one of the most pressing challenges for ecommerce platforms (banks inclusive).  Every year, several financial companies encounter such an issue and suffer losses as a result of fraud and BB PLC isn't an exception. Clearly, digitization enables for new heights to be reached, new consumers to be reached, and operating expenses to be reduced. However, this condition also provides a favorable setting for fraudsters. \n",
    "\n",
    "BB PLC wants me to build a Machine Learning model that will predict online payment fraud.\n",
    "* The Objective of this project is to develop a model that will proactively monitor for potentially fraudulent or high-risk events, detect illegitimate transactional behaviors online and help accept more good orders to increase revenue.\n"
   ]
  },
  {
   "cell_type": "markdown",
   "id": "2c983716",
   "metadata": {},
   "source": [
    "This is a binary classification task to predict and detect whether an online payment transaction is Fraudulent or not.\n",
    "\n",
    "* Data Understanding - The data provided is in a csv file containing transaction informations of the bank customers. Exploratory analysis will be carried out in the notebook below\n",
    "* Data Preparation - There are no null values in the dataset\n",
    "* Modelling - 4 models will be evaluated for this classification task: logistic regression, random forest, k-nearest neighbors, support vector machine. Training and test data was split 70:30.\n",
    "* Evaluation - Each of the 4 models will be compared and evaluated using Cross validation, precision and recall.\n",
    "* Deployment - This was not within the scope of this exercise"
   ]
  },
  {
   "cell_type": "code",
   "execution_count": 1,
   "id": "ae312101",
   "metadata": {},
   "outputs": [],
   "source": [
    "# Import libraries for Data Manipulation\n",
    "\n",
    "import numpy as np\n",
    "import pandas as pd\n",
    "\n",
    "# Import libraries for Data Visualization\n",
    "import seaborn as sns\n",
    "import matplotlib.pyplot as plt\n",
    "\n",
    "import warnings\n",
    "warnings.filterwarnings(\"ignore\")"
   ]
  },
  {
   "cell_type": "markdown",
   "id": "52712bf5",
   "metadata": {},
   "source": [
    "## Data Inspection\n",
    "* Load Dataset\n",
    "* See Overview of the data including data columns, dimensionality, statistical description, missing values, etc"
   ]
  },
  {
   "cell_type": "code",
   "execution_count": 2,
   "id": "8a16f16a",
   "metadata": {
    "scrolled": false
   },
   "outputs": [
    {
     "data": {
      "text/html": [
       "<div>\n",
       "<style scoped>\n",
       "    .dataframe tbody tr th:only-of-type {\n",
       "        vertical-align: middle;\n",
       "    }\n",
       "\n",
       "    .dataframe tbody tr th {\n",
       "        vertical-align: top;\n",
       "    }\n",
       "\n",
       "    .dataframe thead th {\n",
       "        text-align: right;\n",
       "    }\n",
       "</style>\n",
       "<table border=\"1\" class=\"dataframe\">\n",
       "  <thead>\n",
       "    <tr style=\"text-align: right;\">\n",
       "      <th></th>\n",
       "      <th>step</th>\n",
       "      <th>type</th>\n",
       "      <th>amount</th>\n",
       "      <th>nameOrig</th>\n",
       "      <th>oldbalanceOrg</th>\n",
       "      <th>newbalanceOrig</th>\n",
       "      <th>nameDest</th>\n",
       "      <th>oldbalanceDest</th>\n",
       "      <th>newbalanceDest</th>\n",
       "      <th>isFraud</th>\n",
       "    </tr>\n",
       "  </thead>\n",
       "  <tbody>\n",
       "    <tr>\n",
       "      <th>0</th>\n",
       "      <td>1</td>\n",
       "      <td>PAYMENT</td>\n",
       "      <td>9839.64</td>\n",
       "      <td>C1231006815</td>\n",
       "      <td>170136.0</td>\n",
       "      <td>160296.36</td>\n",
       "      <td>M1979787155</td>\n",
       "      <td>0.0</td>\n",
       "      <td>0.0</td>\n",
       "      <td>0</td>\n",
       "    </tr>\n",
       "    <tr>\n",
       "      <th>1</th>\n",
       "      <td>1</td>\n",
       "      <td>PAYMENT</td>\n",
       "      <td>1864.28</td>\n",
       "      <td>C1666544295</td>\n",
       "      <td>21249.0</td>\n",
       "      <td>19384.72</td>\n",
       "      <td>M2044282225</td>\n",
       "      <td>0.0</td>\n",
       "      <td>0.0</td>\n",
       "      <td>0</td>\n",
       "    </tr>\n",
       "    <tr>\n",
       "      <th>2</th>\n",
       "      <td>1</td>\n",
       "      <td>TRANSFER</td>\n",
       "      <td>181.00</td>\n",
       "      <td>C1305486145</td>\n",
       "      <td>181.0</td>\n",
       "      <td>0.00</td>\n",
       "      <td>C553264065</td>\n",
       "      <td>0.0</td>\n",
       "      <td>0.0</td>\n",
       "      <td>1</td>\n",
       "    </tr>\n",
       "    <tr>\n",
       "      <th>3</th>\n",
       "      <td>1</td>\n",
       "      <td>CASH_OUT</td>\n",
       "      <td>181.00</td>\n",
       "      <td>C840083671</td>\n",
       "      <td>181.0</td>\n",
       "      <td>0.00</td>\n",
       "      <td>C38997010</td>\n",
       "      <td>21182.0</td>\n",
       "      <td>0.0</td>\n",
       "      <td>1</td>\n",
       "    </tr>\n",
       "    <tr>\n",
       "      <th>4</th>\n",
       "      <td>1</td>\n",
       "      <td>PAYMENT</td>\n",
       "      <td>11668.14</td>\n",
       "      <td>C2048537720</td>\n",
       "      <td>41554.0</td>\n",
       "      <td>29885.86</td>\n",
       "      <td>M1230701703</td>\n",
       "      <td>0.0</td>\n",
       "      <td>0.0</td>\n",
       "      <td>0</td>\n",
       "    </tr>\n",
       "  </tbody>\n",
       "</table>\n",
       "</div>"
      ],
      "text/plain": [
       "   step      type    amount     nameOrig  oldbalanceOrg  newbalanceOrig  \\\n",
       "0     1   PAYMENT   9839.64  C1231006815       170136.0       160296.36   \n",
       "1     1   PAYMENT   1864.28  C1666544295        21249.0        19384.72   \n",
       "2     1  TRANSFER    181.00  C1305486145          181.0            0.00   \n",
       "3     1  CASH_OUT    181.00   C840083671          181.0            0.00   \n",
       "4     1   PAYMENT  11668.14  C2048537720        41554.0        29885.86   \n",
       "\n",
       "      nameDest  oldbalanceDest  newbalanceDest  isFraud  \n",
       "0  M1979787155             0.0             0.0        0  \n",
       "1  M2044282225             0.0             0.0        0  \n",
       "2   C553264065             0.0             0.0        1  \n",
       "3    C38997010         21182.0             0.0        1  \n",
       "4  M1230701703             0.0             0.0        0  "
      ]
     },
     "execution_count": 2,
     "metadata": {},
     "output_type": "execute_result"
    }
   ],
   "source": [
    "# Load Data\n",
    "OPFD = pd.read_csv(r'C:\\Users\\user\\Documents\\DATA ANALYSIS FILES\\10ALYTICS\\Excel-CSV\\Online Payment Fraud Detection.csv')\n",
    "\n",
    "# View Top 5 of the data\n",
    "OPFD.head()"
   ]
  },
  {
   "cell_type": "code",
   "execution_count": 3,
   "id": "3a390ac2",
   "metadata": {},
   "outputs": [
    {
     "data": {
      "text/html": [
       "<div>\n",
       "<style scoped>\n",
       "    .dataframe tbody tr th:only-of-type {\n",
       "        vertical-align: middle;\n",
       "    }\n",
       "\n",
       "    .dataframe tbody tr th {\n",
       "        vertical-align: top;\n",
       "    }\n",
       "\n",
       "    .dataframe thead th {\n",
       "        text-align: right;\n",
       "    }\n",
       "</style>\n",
       "<table border=\"1\" class=\"dataframe\">\n",
       "  <thead>\n",
       "    <tr style=\"text-align: right;\">\n",
       "      <th></th>\n",
       "      <th>step</th>\n",
       "      <th>type</th>\n",
       "      <th>amount</th>\n",
       "      <th>nameOrig</th>\n",
       "      <th>oldbalanceOrg</th>\n",
       "      <th>newbalanceOrig</th>\n",
       "      <th>nameDest</th>\n",
       "      <th>oldbalanceDest</th>\n",
       "      <th>newbalanceDest</th>\n",
       "      <th>isFraud</th>\n",
       "    </tr>\n",
       "  </thead>\n",
       "  <tbody>\n",
       "    <tr>\n",
       "      <th>1048570</th>\n",
       "      <td>95</td>\n",
       "      <td>CASH_OUT</td>\n",
       "      <td>132557.35</td>\n",
       "      <td>C1179511630</td>\n",
       "      <td>479803.00</td>\n",
       "      <td>347245.65</td>\n",
       "      <td>C435674507</td>\n",
       "      <td>484329.37</td>\n",
       "      <td>616886.72</td>\n",
       "      <td>0</td>\n",
       "    </tr>\n",
       "    <tr>\n",
       "      <th>1048571</th>\n",
       "      <td>95</td>\n",
       "      <td>PAYMENT</td>\n",
       "      <td>9917.36</td>\n",
       "      <td>C1956161225</td>\n",
       "      <td>90545.00</td>\n",
       "      <td>80627.64</td>\n",
       "      <td>M668364942</td>\n",
       "      <td>0.00</td>\n",
       "      <td>0.00</td>\n",
       "      <td>0</td>\n",
       "    </tr>\n",
       "    <tr>\n",
       "      <th>1048572</th>\n",
       "      <td>95</td>\n",
       "      <td>PAYMENT</td>\n",
       "      <td>14140.05</td>\n",
       "      <td>C2037964975</td>\n",
       "      <td>20545.00</td>\n",
       "      <td>6404.95</td>\n",
       "      <td>M1355182933</td>\n",
       "      <td>0.00</td>\n",
       "      <td>0.00</td>\n",
       "      <td>0</td>\n",
       "    </tr>\n",
       "    <tr>\n",
       "      <th>1048573</th>\n",
       "      <td>95</td>\n",
       "      <td>PAYMENT</td>\n",
       "      <td>10020.05</td>\n",
       "      <td>C1633237354</td>\n",
       "      <td>90605.00</td>\n",
       "      <td>80584.95</td>\n",
       "      <td>M1964992463</td>\n",
       "      <td>0.00</td>\n",
       "      <td>0.00</td>\n",
       "      <td>0</td>\n",
       "    </tr>\n",
       "    <tr>\n",
       "      <th>1048574</th>\n",
       "      <td>95</td>\n",
       "      <td>PAYMENT</td>\n",
       "      <td>11450.03</td>\n",
       "      <td>C1264356443</td>\n",
       "      <td>80584.95</td>\n",
       "      <td>69134.92</td>\n",
       "      <td>M677577406</td>\n",
       "      <td>0.00</td>\n",
       "      <td>0.00</td>\n",
       "      <td>0</td>\n",
       "    </tr>\n",
       "  </tbody>\n",
       "</table>\n",
       "</div>"
      ],
      "text/plain": [
       "         step      type     amount     nameOrig  oldbalanceOrg  \\\n",
       "1048570    95  CASH_OUT  132557.35  C1179511630      479803.00   \n",
       "1048571    95   PAYMENT    9917.36  C1956161225       90545.00   \n",
       "1048572    95   PAYMENT   14140.05  C2037964975       20545.00   \n",
       "1048573    95   PAYMENT   10020.05  C1633237354       90605.00   \n",
       "1048574    95   PAYMENT   11450.03  C1264356443       80584.95   \n",
       "\n",
       "         newbalanceOrig     nameDest  oldbalanceDest  newbalanceDest  isFraud  \n",
       "1048570       347245.65   C435674507       484329.37       616886.72        0  \n",
       "1048571        80627.64   M668364942            0.00            0.00        0  \n",
       "1048572         6404.95  M1355182933            0.00            0.00        0  \n",
       "1048573        80584.95  M1964992463            0.00            0.00        0  \n",
       "1048574        69134.92   M677577406            0.00            0.00        0  "
      ]
     },
     "execution_count": 3,
     "metadata": {},
     "output_type": "execute_result"
    }
   ],
   "source": [
    "# View Bottom 5 of the data\n",
    "OPFD.tail()"
   ]
  },
  {
   "cell_type": "code",
   "execution_count": 4,
   "id": "6fe0624b",
   "metadata": {},
   "outputs": [],
   "source": [
    "#It is best practice to make a copy of the original Dataframe for reference purpose since changes will be made during cleaning.\n",
    "\n",
    "OPFD1 = OPFD.copy()"
   ]
  },
  {
   "cell_type": "markdown",
   "id": "e7e0c030",
   "metadata": {},
   "source": [
    "#### DATA DICTIONARY:\n",
    "\n",
    "* Step: represents a unit of time, where 1 step equals 1 hour\n",
    "* Type: type of online transaction\n",
    "* Amount: the amount of the transaction\n",
    "* NameOrig: customer starting the transaction \n",
    "* OldBalanceOrg: balance before transaction\n",
    "* NewBalanceOrg: balance after transaction\n",
    "* NameDest: recipient of the transaction\n",
    "* OldBalanceDest: initial balance of recipient before the transaction\n",
    "* NewBalanceDest: the new balance of recipient after the transaction\n",
    "* IsFraud: fraud transaction - 0(No), 1(Yes)\n",
    "\n",
    "\n"
   ]
  },
  {
   "cell_type": "markdown",
   "id": "862798fe",
   "metadata": {},
   "source": [
    "#### Data Inspection"
   ]
  },
  {
   "cell_type": "code",
   "execution_count": 5,
   "id": "ee8775fb",
   "metadata": {},
   "outputs": [
    {
     "name": "stdout",
     "output_type": "stream",
     "text": [
      "<class 'pandas.core.frame.DataFrame'>\n",
      "RangeIndex: 1048575 entries, 0 to 1048574\n",
      "Data columns (total 10 columns):\n",
      " #   Column          Non-Null Count    Dtype  \n",
      "---  ------          --------------    -----  \n",
      " 0   step            1048575 non-null  int64  \n",
      " 1   type            1048575 non-null  object \n",
      " 2   amount          1048575 non-null  float64\n",
      " 3   nameOrig        1048575 non-null  object \n",
      " 4   oldbalanceOrg   1048575 non-null  float64\n",
      " 5   newbalanceOrig  1048575 non-null  float64\n",
      " 6   nameDest        1048575 non-null  object \n",
      " 7   oldbalanceDest  1048575 non-null  float64\n",
      " 8   newbalanceDest  1048575 non-null  float64\n",
      " 9   isFraud         1048575 non-null  int64  \n",
      "dtypes: float64(5), int64(2), object(3)\n",
      "memory usage: 80.0+ MB\n"
     ]
    }
   ],
   "source": [
    "# Overview of the data content\n",
    "OPFD1.info()"
   ]
  },
  {
   "cell_type": "code",
   "execution_count": 6,
   "id": "3d1ee4c1",
   "metadata": {},
   "outputs": [
    {
     "data": {
      "text/plain": [
       "(1048575, 10)"
      ]
     },
     "execution_count": 6,
     "metadata": {},
     "output_type": "execute_result"
    }
   ],
   "source": [
    "# Dimensionality of the data\n",
    "OPFD1.shape"
   ]
  },
  {
   "cell_type": "code",
   "execution_count": 7,
   "id": "0a434262",
   "metadata": {},
   "outputs": [
    {
     "data": {
      "text/plain": [
       "step              0\n",
       "type              0\n",
       "amount            0\n",
       "nameOrig          0\n",
       "oldbalanceOrg     0\n",
       "newbalanceOrig    0\n",
       "nameDest          0\n",
       "oldbalanceDest    0\n",
       "newbalanceDest    0\n",
       "isFraud           0\n",
       "dtype: int64"
      ]
     },
     "execution_count": 7,
     "metadata": {},
     "output_type": "execute_result"
    }
   ],
   "source": [
    "# Checking for Missing Data\n",
    "\n",
    "OPFD1.isnull().sum()"
   ]
  },
  {
   "cell_type": "code",
   "execution_count": 8,
   "id": "ac0f8aca",
   "metadata": {},
   "outputs": [
    {
     "data": {
      "text/html": [
       "<div>\n",
       "<style scoped>\n",
       "    .dataframe tbody tr th:only-of-type {\n",
       "        vertical-align: middle;\n",
       "    }\n",
       "\n",
       "    .dataframe tbody tr th {\n",
       "        vertical-align: top;\n",
       "    }\n",
       "\n",
       "    .dataframe thead th {\n",
       "        text-align: right;\n",
       "    }\n",
       "</style>\n",
       "<table border=\"1\" class=\"dataframe\">\n",
       "  <thead>\n",
       "    <tr style=\"text-align: right;\">\n",
       "      <th></th>\n",
       "      <th>step</th>\n",
       "      <th>amount</th>\n",
       "      <th>oldbalanceOrg</th>\n",
       "      <th>newbalanceOrig</th>\n",
       "      <th>oldbalanceDest</th>\n",
       "      <th>newbalanceDest</th>\n",
       "      <th>isFraud</th>\n",
       "    </tr>\n",
       "  </thead>\n",
       "  <tbody>\n",
       "    <tr>\n",
       "      <th>count</th>\n",
       "      <td>1048575</td>\n",
       "      <td>1048575</td>\n",
       "      <td>1048575</td>\n",
       "      <td>1048575</td>\n",
       "      <td>1048575</td>\n",
       "      <td>1048575</td>\n",
       "      <td>1048575</td>\n",
       "    </tr>\n",
       "    <tr>\n",
       "      <th>mean</th>\n",
       "      <td>26</td>\n",
       "      <td>158666</td>\n",
       "      <td>874009</td>\n",
       "      <td>893808</td>\n",
       "      <td>978160</td>\n",
       "      <td>1114197</td>\n",
       "      <td>0</td>\n",
       "    </tr>\n",
       "    <tr>\n",
       "      <th>std</th>\n",
       "      <td>15</td>\n",
       "      <td>264940</td>\n",
       "      <td>2971750</td>\n",
       "      <td>3008271</td>\n",
       "      <td>2296780</td>\n",
       "      <td>2416593</td>\n",
       "      <td>0</td>\n",
       "    </tr>\n",
       "    <tr>\n",
       "      <th>min</th>\n",
       "      <td>1</td>\n",
       "      <td>0</td>\n",
       "      <td>0</td>\n",
       "      <td>0</td>\n",
       "      <td>0</td>\n",
       "      <td>0</td>\n",
       "      <td>0</td>\n",
       "    </tr>\n",
       "    <tr>\n",
       "      <th>25%</th>\n",
       "      <td>15</td>\n",
       "      <td>12149</td>\n",
       "      <td>0</td>\n",
       "      <td>0</td>\n",
       "      <td>0</td>\n",
       "      <td>0</td>\n",
       "      <td>0</td>\n",
       "    </tr>\n",
       "    <tr>\n",
       "      <th>50%</th>\n",
       "      <td>20</td>\n",
       "      <td>76343</td>\n",
       "      <td>16002</td>\n",
       "      <td>0</td>\n",
       "      <td>126377</td>\n",
       "      <td>218260</td>\n",
       "      <td>0</td>\n",
       "    </tr>\n",
       "    <tr>\n",
       "      <th>75%</th>\n",
       "      <td>39</td>\n",
       "      <td>213761</td>\n",
       "      <td>136642</td>\n",
       "      <td>174599</td>\n",
       "      <td>915923</td>\n",
       "      <td>1149807</td>\n",
       "      <td>0</td>\n",
       "    </tr>\n",
       "    <tr>\n",
       "      <th>max</th>\n",
       "      <td>95</td>\n",
       "      <td>10000000</td>\n",
       "      <td>38900000</td>\n",
       "      <td>38900000</td>\n",
       "      <td>42100000</td>\n",
       "      <td>42200000</td>\n",
       "      <td>1</td>\n",
       "    </tr>\n",
       "  </tbody>\n",
       "</table>\n",
       "</div>"
      ],
      "text/plain": [
       "          step    amount  oldbalanceOrg  newbalanceOrig  oldbalanceDest  \\\n",
       "count  1048575   1048575        1048575         1048575         1048575   \n",
       "mean        26    158666         874009          893808          978160   \n",
       "std         15    264940        2971750         3008271         2296780   \n",
       "min          1         0              0               0               0   \n",
       "25%         15     12149              0               0               0   \n",
       "50%         20     76343          16002               0          126377   \n",
       "75%         39    213761         136642          174599          915923   \n",
       "max         95  10000000       38900000        38900000        42100000   \n",
       "\n",
       "       newbalanceDest  isFraud  \n",
       "count         1048575  1048575  \n",
       "mean          1114197        0  \n",
       "std           2416593        0  \n",
       "min                 0        0  \n",
       "25%                 0        0  \n",
       "50%            218260        0  \n",
       "75%           1149807        0  \n",
       "max          42200000        1  "
      ]
     },
     "execution_count": 8,
     "metadata": {},
     "output_type": "execute_result"
    }
   ],
   "source": [
    "# Statistical description of the data\n",
    "\n",
    "OPFD1.describe().astype(int)"
   ]
  },
  {
   "cell_type": "markdown",
   "id": "c78f359e",
   "metadata": {},
   "source": [
    "### Data Cleaning\n",
    "\n",
    "Some reduntant columns will be dropped (transaction_originator_name and recipient_name) for the seek of visualization and easy readability, some column names will be renamed and a new column for 'isFraud' will be created, where 0 will be No, and 1 will be Yes."
   ]
  },
  {
   "cell_type": "code",
   "execution_count": 9,
   "id": "1b355f93",
   "metadata": {},
   "outputs": [
    {
     "data": {
      "text/html": [
       "<div>\n",
       "<style scoped>\n",
       "    .dataframe tbody tr th:only-of-type {\n",
       "        vertical-align: middle;\n",
       "    }\n",
       "\n",
       "    .dataframe tbody tr th {\n",
       "        vertical-align: top;\n",
       "    }\n",
       "\n",
       "    .dataframe thead th {\n",
       "        text-align: right;\n",
       "    }\n",
       "</style>\n",
       "<table border=\"1\" class=\"dataframe\">\n",
       "  <thead>\n",
       "    <tr style=\"text-align: right;\">\n",
       "      <th></th>\n",
       "      <th>step</th>\n",
       "      <th>transaction_type</th>\n",
       "      <th>transaction_amount</th>\n",
       "      <th>transaction_originator_name</th>\n",
       "      <th>transaction_originator_oldbalance</th>\n",
       "      <th>transaction_originator_newbalance</th>\n",
       "      <th>recipient_name</th>\n",
       "      <th>recipient_oldbalance</th>\n",
       "      <th>recipient_newbalance</th>\n",
       "      <th>isFraud</th>\n",
       "    </tr>\n",
       "  </thead>\n",
       "  <tbody>\n",
       "    <tr>\n",
       "      <th>0</th>\n",
       "      <td>1</td>\n",
       "      <td>PAYMENT</td>\n",
       "      <td>9839.64</td>\n",
       "      <td>C1231006815</td>\n",
       "      <td>170136.0</td>\n",
       "      <td>160296.36</td>\n",
       "      <td>M1979787155</td>\n",
       "      <td>0.0</td>\n",
       "      <td>0.0</td>\n",
       "      <td>0</td>\n",
       "    </tr>\n",
       "    <tr>\n",
       "      <th>1</th>\n",
       "      <td>1</td>\n",
       "      <td>PAYMENT</td>\n",
       "      <td>1864.28</td>\n",
       "      <td>C1666544295</td>\n",
       "      <td>21249.0</td>\n",
       "      <td>19384.72</td>\n",
       "      <td>M2044282225</td>\n",
       "      <td>0.0</td>\n",
       "      <td>0.0</td>\n",
       "      <td>0</td>\n",
       "    </tr>\n",
       "  </tbody>\n",
       "</table>\n",
       "</div>"
      ],
      "text/plain": [
       "   step transaction_type  transaction_amount transaction_originator_name  \\\n",
       "0     1          PAYMENT             9839.64                 C1231006815   \n",
       "1     1          PAYMENT             1864.28                 C1666544295   \n",
       "\n",
       "   transaction_originator_oldbalance  transaction_originator_newbalance  \\\n",
       "0                           170136.0                          160296.36   \n",
       "1                            21249.0                           19384.72   \n",
       "\n",
       "  recipient_name  recipient_oldbalance  recipient_newbalance  isFraud  \n",
       "0    M1979787155                   0.0                   0.0        0  \n",
       "1    M2044282225                   0.0                   0.0        0  "
      ]
     },
     "execution_count": 9,
     "metadata": {},
     "output_type": "execute_result"
    }
   ],
   "source": [
    "# Rename column names for readability\n",
    "OPFD1.columns = [\"step\", \"transaction_type\", \"transaction_amount\", \"transaction_originator_name\", \n",
    "                 \"transaction_originator_oldbalance\", \"transaction_originator_newbalance\", \"recipient_name\", \n",
    "                 \"recipient_oldbalance\", \"recipient_newbalance\", \"isFraud\"]\n",
    "OPFD1.head(2)"
   ]
  },
  {
   "cell_type": "code",
   "execution_count": 10,
   "id": "25133c75",
   "metadata": {},
   "outputs": [],
   "source": [
    "# Drop redundant columns\n",
    "OPFD1.drop([\"recipient_name\", \"transaction_originator_name\"], axis = 1, inplace = True)"
   ]
  },
  {
   "cell_type": "code",
   "execution_count": 11,
   "id": "3547473a",
   "metadata": {},
   "outputs": [
    {
     "data": {
      "text/html": [
       "<div>\n",
       "<style scoped>\n",
       "    .dataframe tbody tr th:only-of-type {\n",
       "        vertical-align: middle;\n",
       "    }\n",
       "\n",
       "    .dataframe tbody tr th {\n",
       "        vertical-align: top;\n",
       "    }\n",
       "\n",
       "    .dataframe thead th {\n",
       "        text-align: right;\n",
       "    }\n",
       "</style>\n",
       "<table border=\"1\" class=\"dataframe\">\n",
       "  <thead>\n",
       "    <tr style=\"text-align: right;\">\n",
       "      <th></th>\n",
       "      <th>step</th>\n",
       "      <th>transaction_type</th>\n",
       "      <th>transaction_amount</th>\n",
       "      <th>transaction_originator_oldbalance</th>\n",
       "      <th>transaction_originator_newbalance</th>\n",
       "      <th>recipient_oldbalance</th>\n",
       "      <th>recipient_newbalance</th>\n",
       "      <th>isFraud</th>\n",
       "    </tr>\n",
       "  </thead>\n",
       "  <tbody>\n",
       "    <tr>\n",
       "      <th>0</th>\n",
       "      <td>1</td>\n",
       "      <td>PAYMENT</td>\n",
       "      <td>9839.64</td>\n",
       "      <td>170136.0</td>\n",
       "      <td>160296.36</td>\n",
       "      <td>0.0</td>\n",
       "      <td>0.0</td>\n",
       "      <td>0</td>\n",
       "    </tr>\n",
       "    <tr>\n",
       "      <th>1</th>\n",
       "      <td>1</td>\n",
       "      <td>PAYMENT</td>\n",
       "      <td>1864.28</td>\n",
       "      <td>21249.0</td>\n",
       "      <td>19384.72</td>\n",
       "      <td>0.0</td>\n",
       "      <td>0.0</td>\n",
       "      <td>0</td>\n",
       "    </tr>\n",
       "  </tbody>\n",
       "</table>\n",
       "</div>"
      ],
      "text/plain": [
       "   step transaction_type  transaction_amount  \\\n",
       "0     1          PAYMENT             9839.64   \n",
       "1     1          PAYMENT             1864.28   \n",
       "\n",
       "   transaction_originator_oldbalance  transaction_originator_newbalance  \\\n",
       "0                           170136.0                          160296.36   \n",
       "1                            21249.0                           19384.72   \n",
       "\n",
       "   recipient_oldbalance  recipient_newbalance  isFraud  \n",
       "0                   0.0                   0.0        0  \n",
       "1                   0.0                   0.0        0  "
      ]
     },
     "execution_count": 11,
     "metadata": {},
     "output_type": "execute_result"
    }
   ],
   "source": [
    "OPFD1.head(2)"
   ]
  },
  {
   "cell_type": "markdown",
   "id": "7850ad8d",
   "metadata": {},
   "source": [
    "### Exploratory Data Analysis"
   ]
  },
  {
   "cell_type": "markdown",
   "id": "168f6d22",
   "metadata": {},
   "source": [
    "#### Data Visualization\n",
    "\n",
    "Visualization of the relationships in the data set.\n",
    "\n",
    "##### Univariate Analysis\n",
    "\n",
    "Charts with only one variable (column) at a time. \n"
   ]
  },
  {
   "cell_type": "code",
   "execution_count": 12,
   "id": "6362f725",
   "metadata": {},
   "outputs": [],
   "source": [
    "# Create new columns for easy visualization"
   ]
  },
  {
   "cell_type": "code",
   "execution_count": 13,
   "id": "ee9d76a2",
   "metadata": {
    "scrolled": false
   },
   "outputs": [
    {
     "data": {
      "text/plain": [
       "Text(0.5, 1.0, 'Transaction Amount')"
      ]
     },
     "execution_count": 13,
     "metadata": {},
     "output_type": "execute_result"
    },
    {
     "data": {
      "image/png": "[encoded data removed]",
      "text/plain": [
       "<Figure size 576x288 with 1 Axes>"
      ]
     },
     "metadata": {
      "needs_background": "light"
     },
     "output_type": "display_data"
    }
   ],
   "source": [
    "# Amount\n",
    "\n",
    "# create a function that categorises transaction amount\n",
    "def amount_bracket(transaction_amount):\n",
    "    if transaction_amount <= 2000000:\n",
    "        return \"<=2M\"\n",
    "    elif transaction_amount <=4000000:\n",
    "        return \"<=4M\"\n",
    "    elif transaction_amount <=6000000:\n",
    "        return \"<=6M\"\n",
    "    elif transaction_amount <= 8000000:\n",
    "        return \"<=8M\"\n",
    "    else: \n",
    "        return \">10M)\"\n",
    "\n",
    "    \n",
    "# Create a new column for age category\n",
    "OPFD1[\"trans_amt_group\"] = OPFD1[\"transaction_amount\"].apply(amount_bracket)\n",
    "\n",
    "\n",
    "#Create visualization for IsFraud using Fraud column\n",
    "fig, ax1 = plt.subplots(figsize = (8,4))\n",
    "plt.ticklabel_format(style='plain')\n",
    "viz = sns.countplot(ax =ax1, x = \"trans_amt_group\", data = OPFD1)\n",
    "viz.set_xticklabels(viz.get_xticklabels(), rotation=90)\n",
    "for i in viz.patches:\n",
    "    height = i.get_height()\n",
    "    viz.text(i.get_x() + i.get_width()/2., height + 0.1, height, ha=\"center\")\n",
    "plt.title('Transaction Amount')\n",
    "\n",
    "\n",
    "\n",
    "\n"
   ]
  },
  {
   "cell_type": "markdown",
   "id": "771b56c8",
   "metadata": {},
   "source": [
    "Most of the Transaction Amount (about 99.6%) were between 0 and 2 Million"
   ]
  },
  {
   "cell_type": "code",
   "execution_count": 69,
   "id": "f66105aa",
   "metadata": {},
   "outputs": [
    {
     "data": {
      "text/plain": [
       "Text(0.5, 1.0, 'Transaction Originator Old Balance')"
      ]
     },
     "execution_count": 69,
     "metadata": {},
     "output_type": "execute_result"
    },
    {
     "data": {
      "image/png": "[encoded data removed]",
      "text/plain": [
       "<Figure size 720x360 with 1 Axes>"
      ]
     },
     "metadata": {
      "needs_background": "light"
     },
     "output_type": "display_data"
    }
   ],
   "source": [
    "# transaction originator old balance(toob)\n",
    "\n",
    "# create a function that categorises transaction amount\n",
    "def toob_bracket(transaction_originator_oldbalance):\n",
    "    if transaction_originator_oldbalance <= 7780000:\n",
    "        return \"<=7.7M\"\n",
    "    elif transaction_originator_oldbalance <=15560000:\n",
    "        return \"<=15.5M\"\n",
    "    elif transaction_originator_oldbalance <=23340000:\n",
    "        return \"<=23.3M\"\n",
    "    elif transaction_originator_oldbalance <= 31120000:\n",
    "        return \"<=31.1M\"\n",
    "    else: \n",
    "        return \">31.1M\"\n",
    "\n",
    "\n",
    "    \n",
    "# Create a new column for age category\n",
    "OPFD1[\"trans_org_oldbal_group\"] = OPFD1[\"transaction_originator_oldbalance\"].apply(toob_bracket)\n",
    "\n",
    "\n",
    "#Create visualization for IsFraud using Fraud column\n",
    "fig, ax1 = plt.subplots(figsize = (10,5))\n",
    "plt.ticklabel_format(style='plain')\n",
    "viz = sns.countplot(ax =ax1, x = \"trans_org_oldbal_group\", data = OPFD1)\n",
    "viz.set_xticklabels(viz.get_xticklabels(), rotation=90)\n",
    "for i in viz.patches:\n",
    "    height = i.get_height()\n",
    "    viz.text(i.get_x() + i.get_width()/2., height + 0.1, height, ha=\"center\")\n",
    "plt.title('Transaction Originator Old Balance')\n"
   ]
  },
  {
   "cell_type": "markdown",
   "id": "36f141ca",
   "metadata": {},
   "source": [
    "The balance for the transaction Orginators before transactions were mostly in group less than or equal to 7.7 Million balance. So, the higher the account balance, the lesser the nuumber of people in that category"
   ]
  },
  {
   "cell_type": "code",
   "execution_count": 72,
   "id": "e6812ccc",
   "metadata": {
    "scrolled": true
   },
   "outputs": [
    {
     "data": {
      "text/plain": [
       "Text(0.5, 1.0, 'Transaction Originator New Balance')"
      ]
     },
     "execution_count": 72,
     "metadata": {},
     "output_type": "execute_result"
    },
    {
     "data": {
      "image/png": "[encoded data removed]",
      "text/plain": [
       "<Figure size 576x288 with 1 Axes>"
      ]
     },
     "metadata": {
      "needs_background": "light"
     },
     "output_type": "display_data"
    }
   ],
   "source": [
    "# transaction originator new balance(tonb)\n",
    "\n",
    "# create a function that categorises transaction amount\n",
    "def tonb_bracket(transaction_originator_newbalance):\n",
    "    if transaction_originator_newbalance <= 7780000:\n",
    "        return \"<=7.7M\"\n",
    "    elif transaction_originator_newbalance <=15560000:\n",
    "        return \"<=15.5M\"\n",
    "    elif transaction_originator_newbalance <=23340000:\n",
    "        return \"<=23.3M\"\n",
    "    elif transaction_originator_newbalance <= 31120000:\n",
    "        return \"<=31.1M\"\n",
    "    else: \n",
    "        return \">31.1M\"\n",
    "\n",
    "    \n",
    "# Create a new column for age category\n",
    "OPFD1[\"trans_org_newbal_group\"] = OPFD1[\"transaction_originator_newbalance\"].apply(tonb_bracket)\n",
    "\n",
    "\n",
    "#Create visualization for IsFraud using Fraud column\n",
    "fig, ax1 = plt.subplots(figsize = (8,4))\n",
    "plt.ticklabel_format(style='plain')\n",
    "viz = sns.countplot(ax =ax1, x = \"trans_org_newbal_group\", data = OPFD1)\n",
    "viz.set_xticklabels(viz.get_xticklabels(), rotation=90)\n",
    "for i in viz.patches:\n",
    "    height = i.get_height()\n",
    "    viz.text(i.get_x() + i.get_width()/2., height + 0.1, height, ha=\"center\")\n",
    "plt.title('Transaction Originator New Balance')"
   ]
  },
  {
   "cell_type": "markdown",
   "id": "20cad1c1",
   "metadata": {},
   "source": [
    "The balance for the transaction Orginators after transactions were mostly in group less than or equal to 7.7 Million balance. So, the higher the account balance, the lesser the nuumber of people in that category"
   ]
  },
  {
   "cell_type": "code",
   "execution_count": 16,
   "id": "4972b768",
   "metadata": {},
   "outputs": [
    {
     "data": {
      "text/plain": [
       "Text(0.5, 1.0, 'Recipient Old Balance')"
      ]
     },
     "execution_count": 16,
     "metadata": {},
     "output_type": "execute_result"
    },
    {
     "data": {
      "image/png": "[encoded data removed]",
      "text/plain": [
       "<Figure size 720x360 with 1 Axes>"
      ]
     },
     "metadata": {
      "needs_background": "light"
     },
     "output_type": "display_data"
    }
   ],
   "source": [
    "# recipient old balance(rob)\n",
    "\n",
    "# create a function that categorises transaction amount\n",
    "def rob_bracket(recipient_oldbalance):\n",
    "    if recipient_oldbalance <= 8420000:\n",
    "        return \"<=8.4M\"\n",
    "    elif recipient_oldbalance <= 16840000:\n",
    "        return \"<=16.8M\"\n",
    "    elif recipient_oldbalance <= 25260000:\n",
    "        return \"<=25.2M\"\n",
    "    elif recipient_oldbalance <= 33680000:\n",
    "        return \"<=33.6M\"\n",
    "    else:\n",
    "        return \">33.6M)\"\n",
    "\n",
    "    \n",
    "# Create a new column for age category\n",
    "OPFD1[\"recipient_oldbal_group\"] = OPFD1[\"recipient_oldbalance\"].apply(rob_bracket)\n",
    "\n",
    "#Create visualization for IsFraud using Fraud column\n",
    "fig, ax1 = plt.subplots(figsize = (10,5))\n",
    "plt.ticklabel_format(style='plain')\n",
    "viz = sns.countplot(ax =ax1, x = \"recipient_oldbal_group\", data = OPFD1)\n",
    "viz.set_xticklabels(viz.get_xticklabels(), rotation=90)\n",
    "for i in viz.patches:\n",
    "    height = i.get_height()\n",
    "    viz.text(i.get_x() + i.get_width()/2., height + 0.1, height, ha=\"center\")\n",
    "plt.title('Recipient Old Balance')"
   ]
  },
  {
   "cell_type": "markdown",
   "id": "4a5c626c",
   "metadata": {},
   "source": [
    "Most of the Recipient Account balance before transaction were between 0 and 8.4 Million (about 98%)"
   ]
  },
  {
   "cell_type": "code",
   "execution_count": 17,
   "id": "b25656d9",
   "metadata": {},
   "outputs": [
    {
     "data": {
      "text/plain": [
       "Text(0.5, 1.0, 'Recipient New Balance')"
      ]
     },
     "execution_count": 17,
     "metadata": {},
     "output_type": "execute_result"
    },
    {
     "data": {
      "image/png": "[encoded data removed]",
      "text/plain": [
       "<Figure size 720x360 with 1 Axes>"
      ]
     },
     "metadata": {
      "needs_background": "light"
     },
     "output_type": "display_data"
    }
   ],
   "source": [
    "# recipient new balance(rnb)\n",
    "\n",
    "# create a function that categorises transaction amount\n",
    "def rnb_bracket(recipient_newbalance):\n",
    "    if recipient_newbalance <= 8420000:\n",
    "        return \"<=8.4M\"\n",
    "    elif recipient_newbalance <= 16840000:\n",
    "        return \"<=16.8M\"\n",
    "    elif recipient_newbalance <= 25260000:\n",
    "        return \"<=25.2M\"\n",
    "    elif recipient_newbalance <= 33680000:\n",
    "        return \"<=33.6M\"\n",
    "    else:\n",
    "        return \">33.6M)\"\n",
    "\n",
    "    \n",
    "# Create a new column for age category\n",
    "OPFD1[\"recipient_newbal_group\"] = OPFD1[\"recipient_newbalance\"].apply(rnb_bracket)\n",
    "\n",
    "\n",
    "#Create visualization for IsFraud using Fraud column\n",
    "fig, ax1 = plt.subplots(figsize = (10,5))\n",
    "plt.ticklabel_format(style='plain')\n",
    "viz = sns.countplot(ax =ax1, x = \"recipient_newbal_group\", data = OPFD1)\n",
    "viz.set_xticklabels(viz.get_xticklabels(), rotation=90)\n",
    "for i in viz.patches:\n",
    "    height = i.get_height()\n",
    "    viz.text(i.get_x() + i.get_width()/2., height + 0.1, height, ha=\"center\")\n",
    "plt.title('Recipient New Balance')"
   ]
  },
  {
   "cell_type": "markdown",
   "id": "63dfa98f",
   "metadata": {},
   "source": [
    "There was an increase in the recipent balance across the different groups by 3%, 20%, 0.9%, and 0.2% (<=25.2M, <=16.8M, <=33.6M, >33.6M respectively) except for <= 8.4M; when compared to the balance before transaction"
   ]
  },
  {
   "cell_type": "code",
   "execution_count": 18,
   "id": "f411252e",
   "metadata": {},
   "outputs": [
    {
     "data": {
      "image/png": "[encoded data removed]",
      "text/plain": [
       "<Figure size 720x360 with 1 Axes>"
      ]
     },
     "metadata": {
      "needs_background": "light"
     },
     "output_type": "display_data"
    }
   ],
   "source": [
    "plt.figure(figsize = (10,5))\n",
    "sns.histplot(x = 'step', data = OPFD1)\n",
    "plt.title('Steps - 1 step isto 1 hour')\n",
    "plt.show()"
   ]
  },
  {
   "cell_type": "markdown",
   "id": "1fe56c0d",
   "metadata": {},
   "source": [
    "Most frequent step is 19"
   ]
  },
  {
   "cell_type": "code",
   "execution_count": 19,
   "id": "52efe544",
   "metadata": {},
   "outputs": [
    {
     "data": {
      "image/png": "[encoded data removed]",
      "text/plain": [
       "<Figure size 720x360 with 1 Axes>"
      ]
     },
     "metadata": {
      "needs_background": "light"
     },
     "output_type": "display_data"
    }
   ],
   "source": [
    "plt.figure(figsize = (10,5))\n",
    "sns.countplot(x = 'transaction_type', data = OPFD1)\n",
    "plt.title('Transaction Type')\n",
    "plt.show()"
   ]
  },
  {
   "cell_type": "markdown",
   "id": "b0565c37",
   "metadata": {},
   "source": [
    "Most frequent Transaction Type used was the Cash_out Type"
   ]
  },
  {
   "cell_type": "code",
   "execution_count": 20,
   "id": "a726211b",
   "metadata": {
    "scrolled": false
   },
   "outputs": [
    {
     "data": {
      "text/plain": [
       "<AxesSubplot:title={'center':'Fraud Transaction'}, ylabel='Fraud'>"
      ]
     },
     "execution_count": 20,
     "metadata": {},
     "output_type": "execute_result"
    },
    {
     "data": {
      "image/png": "[encoded data removed]",
      "text/plain": [
       "<Figure size 720x360 with 1 Axes>"
      ]
     },
     "metadata": {},
     "output_type": "display_data"
    }
   ],
   "source": [
    "# Fraud (1 = Yes, 0 = No)\n",
    "\n",
    "# Create Function that categorise Fraud\n",
    "def fraud(isFraud):\n",
    "    if isFraud == 1:\n",
    "        return 'Yes'\n",
    "    else:\n",
    "        return 'No'\n",
    "    \n",
    "OPFD1['Fraud'] = OPFD1['isFraud'].apply(fraud)\n",
    "\n",
    "#Create visualization for IsFraud using Fraud column\n",
    "plt.figure(figsize = (10,5))\n",
    "plt.title('Fraud Transaction')\n",
    "OPFD1['Fraud'].value_counts(normalize=True).plot.pie(autopct=\"%.2f\")\n"
   ]
  },
  {
   "cell_type": "markdown",
   "id": "256f5dcb",
   "metadata": {},
   "source": [
    "About 99.89% of the Transaction wasn't Fraudulent, only 0.11% was detected Fraudulent"
   ]
  },
  {
   "cell_type": "markdown",
   "id": "c04d0786",
   "metadata": {},
   "source": [
    "##### Bivariate Analysis\n",
    "\n",
    "Charts with two variable (columns) at a time. \n"
   ]
  },
  {
   "cell_type": "code",
   "execution_count": 21,
   "id": "07a35cc8",
   "metadata": {},
   "outputs": [
    {
     "data": {
      "text/plain": [
       "Text(0.5, 1.0, 'Transaction type by  Transaction Amount')"
      ]
     },
     "execution_count": 21,
     "metadata": {},
     "output_type": "execute_result"
    },
    {
     "data": {
      "image/png": "[encoded data removed]",
      "text/plain": [
       "<Figure size 720x360 with 1 Axes>"
      ]
     },
     "metadata": {
      "needs_background": "light"
     },
     "output_type": "display_data"
    }
   ],
   "source": [
    "# Transaction Type by Transaction Amount\n",
    "fig, ax1 = plt.subplots(figsize = (10,5))\n",
    "plt.ticklabel_format(style='plain')\n",
    "sns.barplot( x = \"transaction_type\", y = \"transaction_amount\", data = OPFD1, ci = None)\n",
    "plt.title('Transaction type by  Transaction Amount')"
   ]
  },
  {
   "cell_type": "markdown",
   "id": "02e11102",
   "metadata": {},
   "source": [
    "Transactions with the highest Amount was \"Transfer\" Transaction type, \"Debit\" had the least transaction Amount."
   ]
  },
  {
   "cell_type": "code",
   "execution_count": 22,
   "id": "9b38d773",
   "metadata": {},
   "outputs": [
    {
     "data": {
      "text/plain": [
       "Text(0.5, 1.0, 'Transaction type by  Steps')"
      ]
     },
     "execution_count": 22,
     "metadata": {},
     "output_type": "execute_result"
    },
    {
     "data": {
      "image/png": "[encoded data removed]",
      "text/plain": [
       "<Figure size 720x360 with 1 Axes>"
      ]
     },
     "metadata": {
      "needs_background": "light"
     },
     "output_type": "display_data"
    }
   ],
   "source": [
    "# Transaction Type by Steps\n",
    "fig, ax1 = plt.subplots(figsize = (10,5))\n",
    "plt.ticklabel_format(style='plain')\n",
    "sns.barplot(ax =ax1, x = \"transaction_type\", y = \"step\", data = OPFD1, ci = None)\n",
    "plt.title('Transaction type by  Steps')"
   ]
  },
  {
   "cell_type": "markdown",
   "id": "1575de63",
   "metadata": {},
   "source": [
    "\"Payment\" had the highest Steps. This means Payment transactions took longer hours to be processed."
   ]
  },
  {
   "cell_type": "code",
   "execution_count": 23,
   "id": "66f47173",
   "metadata": {},
   "outputs": [
    {
     "data": {
      "text/plain": [
       "Text(0.5, 1.0, 'Transaction Amount by Fraud Detection')"
      ]
     },
     "execution_count": 23,
     "metadata": {},
     "output_type": "execute_result"
    },
    {
     "data": {
      "image/png": "[encoded data removed]",
      "text/plain": [
       "<Figure size 720x360 with 1 Axes>"
      ]
     },
     "metadata": {
      "needs_background": "light"
     },
     "output_type": "display_data"
    }
   ],
   "source": [
    "# Transaction Type by Fraud\n",
    "plt.figure(figsize = (10,5))\n",
    "plt.ticklabel_format(style='plain')\n",
    "sns.boxplot(x = \"Fraud\", y = \"transaction_amount\", data = OPFD1)\n",
    "plt.title('Transaction Amount by Fraud Detection')"
   ]
  },
  {
   "cell_type": "markdown",
   "id": "da316219",
   "metadata": {},
   "source": [
    "This chart shows that with Higher transaction amount, there is a tendancy for it to be a Fraud transaction. This explains why EFCC Freeze an account when a very huge amount of money is detected in it or a huge transaction is done."
   ]
  },
  {
   "cell_type": "code",
   "execution_count": 24,
   "id": "3476bd3a",
   "metadata": {},
   "outputs": [
    {
     "data": {
      "text/plain": [
       "Text(0.5, 1.0, 'Transaction Amount by Step')"
      ]
     },
     "execution_count": 24,
     "metadata": {},
     "output_type": "execute_result"
    },
    {
     "data": {
      "image/png": "[encoded data removed]",
      "text/plain": [
       "<Figure size 720x360 with 1 Axes>"
      ]
     },
     "metadata": {
      "needs_background": "light"
     },
     "output_type": "display_data"
    }
   ],
   "source": [
    "# Transaction Amount by Steps\n",
    "\n",
    "# create a function that categorises steps\n",
    "def step_bracket(step):\n",
    "    if step <= 19:\n",
    "        return \"<=19\"\n",
    "    elif step <= 38:\n",
    "        return \"<=38\"\n",
    "    elif step <= 57:\n",
    "        return \"<=57\"\n",
    "    elif step <= 74:\n",
    "        return \"<=74\"\n",
    "    else:\n",
    "        return \">74\"\n",
    "\n",
    "# Create a column for step bracket    \n",
    "OPFD1[\"step_brac\"] = OPFD1[\"step\"].apply(step_bracket)\n",
    "\n",
    "# Visualization\n",
    "fig, ax1 = plt.subplots(figsize = (10,5))\n",
    "plt.ticklabel_format(style='plain')\n",
    "sns.barplot(x = \"transaction_amount\", y = \"step_brac\", data = OPFD1, ci = None)\n",
    "plt.title('Transaction Amount by Step')"
   ]
  },
  {
   "cell_type": "markdown",
   "id": "c0cd9471",
   "metadata": {},
   "source": []
  },
  {
   "cell_type": "markdown",
   "id": "1110be9e",
   "metadata": {},
   "source": [
    "##### Multivariate\n",
    "\n",
    "Charts with more than two variable (columns) at a time. \n"
   ]
  },
  {
   "cell_type": "code",
   "execution_count": 25,
   "id": "58413e45",
   "metadata": {},
   "outputs": [
    {
     "data": {
      "text/plain": [
       "Text(0.5, 1.0, 'Transaction type by Transaction Amount Per Fraud Detection')"
      ]
     },
     "execution_count": 25,
     "metadata": {},
     "output_type": "execute_result"
    },
    {
     "data": {
      "image/png": "[encoded data removed]",
      "text/plain": [
       "<Figure size 720x360 with 1 Axes>"
      ]
     },
     "metadata": {
      "needs_background": "light"
     },
     "output_type": "display_data"
    }
   ],
   "source": [
    "# Transaction Type by Steps\n",
    "fig, ax1 = plt.subplots(figsize = (10,5))\n",
    "plt.ticklabel_format(style='plain')\n",
    "sns.barplot(ax =ax1, x = \"transaction_type\", y = \"transaction_amount\", data = OPFD1, hue = \"Fraud\", ci = None)\n",
    "plt.title('Transaction type by Transaction Amount Per Fraud Detection')"
   ]
  },
  {
   "cell_type": "markdown",
   "id": "7a505b48",
   "metadata": {},
   "source": [
    "This chart shows that with Higher transaction amount, there is a tendancy for it to be a Fraud transaction, That is \"Transfer\" and \"Cash_Out\" has fraudulent detection."
   ]
  },
  {
   "cell_type": "code",
   "execution_count": 26,
   "id": "ebcd3b29",
   "metadata": {},
   "outputs": [
    {
     "data": {
      "text/plain": [
       "<AxesSubplot:>"
      ]
     },
     "execution_count": 26,
     "metadata": {},
     "output_type": "execute_result"
    },
    {
     "data": {
      "image/png": "[encoded data removed]",
      "text/plain": [
       "<Figure size 432x288 with 2 Axes>"
      ]
     },
     "metadata": {
      "needs_background": "light"
     },
     "output_type": "display_data"
    }
   ],
   "source": [
    "# Correlation analysis\n",
    "\n",
    "correl = OPFD1.corr()\n",
    "\n",
    "# num = 10\n",
    "\n",
    "# cols = correl.nlargest(num, \"target\")[\"target\"].index\n",
    "sns.heatmap(correl, cbar=True, annot=True,fmt=\".2f\")"
   ]
  },
  {
   "cell_type": "markdown",
   "id": "c5fddc94",
   "metadata": {},
   "source": [
    "* There is a very strong positive relationship between recipient old and new balance; \n",
    "* There is a weak positive relationship between recipient new balance and  transcation amount, and between recipient old balance and  transcation amount;\n",
    "* There is a very weak positive relationship between Isfraud and  transcation amount."
   ]
  },
  {
   "cell_type": "markdown",
   "id": "67f521f9",
   "metadata": {
    "scrolled": true
   },
   "source": [
    "### Summary of Findings"
   ]
  },
  {
   "cell_type": "markdown",
   "id": "2dc7d636",
   "metadata": {},
   "source": [
    "1. With Higher transaction amount, there is a tendancy for it to be a Fraud transaction, That is \"Transfer\" and \"Cash_Out\" has fraudulent detection.\n",
    "2. \"Payment\" had the highest Steps. This means Payment transactions took longer hours to be processed.\n",
    "3. About 99.89% of the Transaction wasn't Fraudulent, only 0.11% was detected Fraudulent.\n",
    "4. Most of the Recipient Account balance before transaction were between 0 and 8.4 Million (about 98%)\n",
    "5. There was an increase in the recipent balance across the different groups by 3%, 20%, 0.9%, and 0.2% (<=25.2M, <=16.8M, <=33.6M, >33.6M respectively) except for <= 8.4M; when compared to the balance before transaction"
   ]
  },
  {
   "cell_type": "markdown",
   "id": "a16ede2e",
   "metadata": {},
   "source": [
    "## Modelling\n",
    "\n",
    "In this section, models will be trained and evaluated "
   ]
  },
  {
   "cell_type": "markdown",
   "id": "51e43a90",
   "metadata": {},
   "source": [
    "### Features Engineering\n",
    "\n",
    "\n",
    "#### One-Hot Encoding\n",
    "\n",
    "With one-hot encoding, we convert categorical data into numerical.\n",
    "\n",
    "Each value of a column is pivoted into a column of it's own. The values in this new column will be either 1 or 0 to show whether that value exists or not.\n"
   ]
  },
  {
   "cell_type": "code",
   "execution_count": 27,
   "id": "3dd621b4",
   "metadata": {},
   "outputs": [
    {
     "data": {
      "text/html": [
       "<div>\n",
       "<style scoped>\n",
       "    .dataframe tbody tr th:only-of-type {\n",
       "        vertical-align: middle;\n",
       "    }\n",
       "\n",
       "    .dataframe tbody tr th {\n",
       "        vertical-align: top;\n",
       "    }\n",
       "\n",
       "    .dataframe thead th {\n",
       "        text-align: right;\n",
       "    }\n",
       "</style>\n",
       "<table border=\"1\" class=\"dataframe\">\n",
       "  <thead>\n",
       "    <tr style=\"text-align: right;\">\n",
       "      <th></th>\n",
       "      <th>CASH_IN</th>\n",
       "      <th>CASH_OUT</th>\n",
       "      <th>DEBIT</th>\n",
       "      <th>PAYMENT</th>\n",
       "      <th>TRANSFER</th>\n",
       "    </tr>\n",
       "  </thead>\n",
       "  <tbody>\n",
       "    <tr>\n",
       "      <th>0</th>\n",
       "      <td>0</td>\n",
       "      <td>0</td>\n",
       "      <td>0</td>\n",
       "      <td>1</td>\n",
       "      <td>0</td>\n",
       "    </tr>\n",
       "    <tr>\n",
       "      <th>1</th>\n",
       "      <td>0</td>\n",
       "      <td>0</td>\n",
       "      <td>0</td>\n",
       "      <td>1</td>\n",
       "      <td>0</td>\n",
       "    </tr>\n",
       "  </tbody>\n",
       "</table>\n",
       "</div>"
      ],
      "text/plain": [
       "   CASH_IN  CASH_OUT  DEBIT  PAYMENT  TRANSFER\n",
       "0        0         0      0        1         0\n",
       "1        0         0      0        1         0"
      ]
     },
     "execution_count": 27,
     "metadata": {},
     "output_type": "execute_result"
    }
   ],
   "source": [
    "# Convert all categorical column to numeric using pd.get_dummies() and Transaction type is the categorical data\n",
    "\n",
    "transaction_type_num = pd.get_dummies(OPFD1[\"transaction_type\"])\n",
    "transaction_type_num.head(2)"
   ]
  },
  {
   "cell_type": "code",
   "execution_count": 28,
   "id": "0cb9b6b5",
   "metadata": {},
   "outputs": [
    {
     "name": "stdout",
     "output_type": "stream",
     "text": [
      "(1048575, 20)\n"
     ]
    },
    {
     "data": {
      "text/html": [
       "<div>\n",
       "<style scoped>\n",
       "    .dataframe tbody tr th:only-of-type {\n",
       "        vertical-align: middle;\n",
       "    }\n",
       "\n",
       "    .dataframe tbody tr th {\n",
       "        vertical-align: top;\n",
       "    }\n",
       "\n",
       "    .dataframe thead th {\n",
       "        text-align: right;\n",
       "    }\n",
       "</style>\n",
       "<table border=\"1\" class=\"dataframe\">\n",
       "  <thead>\n",
       "    <tr style=\"text-align: right;\">\n",
       "      <th></th>\n",
       "      <th>step</th>\n",
       "      <th>transaction_type</th>\n",
       "      <th>transaction_amount</th>\n",
       "      <th>transaction_originator_oldbalance</th>\n",
       "      <th>transaction_originator_newbalance</th>\n",
       "      <th>recipient_oldbalance</th>\n",
       "      <th>recipient_newbalance</th>\n",
       "      <th>isFraud</th>\n",
       "      <th>trans_amt_group</th>\n",
       "      <th>trans_org_oldbal_group</th>\n",
       "      <th>trans_org_newbal_group</th>\n",
       "      <th>recipient_oldbal_group</th>\n",
       "      <th>recipient_newbal_group</th>\n",
       "      <th>Fraud</th>\n",
       "      <th>step_brac</th>\n",
       "      <th>CASH_IN</th>\n",
       "      <th>CASH_OUT</th>\n",
       "      <th>DEBIT</th>\n",
       "      <th>PAYMENT</th>\n",
       "      <th>TRANSFER</th>\n",
       "    </tr>\n",
       "  </thead>\n",
       "  <tbody>\n",
       "    <tr>\n",
       "      <th>0</th>\n",
       "      <td>1</td>\n",
       "      <td>PAYMENT</td>\n",
       "      <td>9839.64</td>\n",
       "      <td>170136.0</td>\n",
       "      <td>160296.36</td>\n",
       "      <td>0.0</td>\n",
       "      <td>0.0</td>\n",
       "      <td>0</td>\n",
       "      <td>&lt;=2M</td>\n",
       "      <td>&lt;=7.7M</td>\n",
       "      <td>&lt;=7.7M</td>\n",
       "      <td>&lt;=8.4M</td>\n",
       "      <td>&lt;=8.4M</td>\n",
       "      <td>No</td>\n",
       "      <td>&lt;=19</td>\n",
       "      <td>0</td>\n",
       "      <td>0</td>\n",
       "      <td>0</td>\n",
       "      <td>1</td>\n",
       "      <td>0</td>\n",
       "    </tr>\n",
       "    <tr>\n",
       "      <th>1</th>\n",
       "      <td>1</td>\n",
       "      <td>PAYMENT</td>\n",
       "      <td>1864.28</td>\n",
       "      <td>21249.0</td>\n",
       "      <td>19384.72</td>\n",
       "      <td>0.0</td>\n",
       "      <td>0.0</td>\n",
       "      <td>0</td>\n",
       "      <td>&lt;=2M</td>\n",
       "      <td>&lt;=7.7M</td>\n",
       "      <td>&lt;=7.7M</td>\n",
       "      <td>&lt;=8.4M</td>\n",
       "      <td>&lt;=8.4M</td>\n",
       "      <td>No</td>\n",
       "      <td>&lt;=19</td>\n",
       "      <td>0</td>\n",
       "      <td>0</td>\n",
       "      <td>0</td>\n",
       "      <td>1</td>\n",
       "      <td>0</td>\n",
       "    </tr>\n",
       "  </tbody>\n",
       "</table>\n",
       "</div>"
      ],
      "text/plain": [
       "   step transaction_type  transaction_amount  \\\n",
       "0     1          PAYMENT             9839.64   \n",
       "1     1          PAYMENT             1864.28   \n",
       "\n",
       "   transaction_originator_oldbalance  transaction_originator_newbalance  \\\n",
       "0                           170136.0                          160296.36   \n",
       "1                            21249.0                           19384.72   \n",
       "\n",
       "   recipient_oldbalance  recipient_newbalance  isFraud trans_amt_group  \\\n",
       "0                   0.0                   0.0        0            <=2M   \n",
       "1                   0.0                   0.0        0            <=2M   \n",
       "\n",
       "  trans_org_oldbal_group trans_org_newbal_group recipient_oldbal_group  \\\n",
       "0                 <=7.7M                 <=7.7M                 <=8.4M   \n",
       "1                 <=7.7M                 <=7.7M                 <=8.4M   \n",
       "\n",
       "  recipient_newbal_group Fraud step_brac  CASH_IN  CASH_OUT  DEBIT  PAYMENT  \\\n",
       "0                 <=8.4M    No      <=19        0         0      0        1   \n",
       "1                 <=8.4M    No      <=19        0         0      0        1   \n",
       "\n",
       "   TRANSFER  \n",
       "0         0  \n",
       "1         0  "
      ]
     },
     "execution_count": 28,
     "metadata": {},
     "output_type": "execute_result"
    }
   ],
   "source": [
    "#join the encoded variable back to the main dataframe using pd.concat() \n",
    "#passing both OPFD1 and transaction_type_num as a list of their names\n",
    "\n",
    "OPFD1 = pd.concat([OPFD1, transaction_type_num], axis = 1)\n",
    "\n",
    "# View data\n",
    "print(OPFD1.shape)\n",
    "OPFD1.head(2)"
   ]
  },
  {
   "cell_type": "code",
   "execution_count": 29,
   "id": "d353df1a",
   "metadata": {},
   "outputs": [
    {
     "data": {
      "text/html": [
       "<div>\n",
       "<style scoped>\n",
       "    .dataframe tbody tr th:only-of-type {\n",
       "        vertical-align: middle;\n",
       "    }\n",
       "\n",
       "    .dataframe tbody tr th {\n",
       "        vertical-align: top;\n",
       "    }\n",
       "\n",
       "    .dataframe thead th {\n",
       "        text-align: right;\n",
       "    }\n",
       "</style>\n",
       "<table border=\"1\" class=\"dataframe\">\n",
       "  <thead>\n",
       "    <tr style=\"text-align: right;\">\n",
       "      <th></th>\n",
       "      <th>step</th>\n",
       "      <th>transaction_type</th>\n",
       "      <th>transaction_amount</th>\n",
       "      <th>transaction_originator_oldbalance</th>\n",
       "      <th>transaction_originator_newbalance</th>\n",
       "      <th>recipient_oldbalance</th>\n",
       "      <th>recipient_newbalance</th>\n",
       "      <th>isFraud</th>\n",
       "      <th>CASH_IN</th>\n",
       "      <th>CASH_OUT</th>\n",
       "      <th>DEBIT</th>\n",
       "      <th>PAYMENT</th>\n",
       "      <th>TRANSFER</th>\n",
       "    </tr>\n",
       "  </thead>\n",
       "  <tbody>\n",
       "    <tr>\n",
       "      <th>0</th>\n",
       "      <td>1</td>\n",
       "      <td>PAYMENT</td>\n",
       "      <td>9839.64</td>\n",
       "      <td>170136.0</td>\n",
       "      <td>160296.36</td>\n",
       "      <td>0.0</td>\n",
       "      <td>0.0</td>\n",
       "      <td>0</td>\n",
       "      <td>0</td>\n",
       "      <td>0</td>\n",
       "      <td>0</td>\n",
       "      <td>1</td>\n",
       "      <td>0</td>\n",
       "    </tr>\n",
       "    <tr>\n",
       "      <th>1</th>\n",
       "      <td>1</td>\n",
       "      <td>PAYMENT</td>\n",
       "      <td>1864.28</td>\n",
       "      <td>21249.0</td>\n",
       "      <td>19384.72</td>\n",
       "      <td>0.0</td>\n",
       "      <td>0.0</td>\n",
       "      <td>0</td>\n",
       "      <td>0</td>\n",
       "      <td>0</td>\n",
       "      <td>0</td>\n",
       "      <td>1</td>\n",
       "      <td>0</td>\n",
       "    </tr>\n",
       "  </tbody>\n",
       "</table>\n",
       "</div>"
      ],
      "text/plain": [
       "   step transaction_type  transaction_amount  \\\n",
       "0     1          PAYMENT             9839.64   \n",
       "1     1          PAYMENT             1864.28   \n",
       "\n",
       "   transaction_originator_oldbalance  transaction_originator_newbalance  \\\n",
       "0                           170136.0                          160296.36   \n",
       "1                            21249.0                           19384.72   \n",
       "\n",
       "   recipient_oldbalance  recipient_newbalance  isFraud  CASH_IN  CASH_OUT  \\\n",
       "0                   0.0                   0.0        0        0         0   \n",
       "1                   0.0                   0.0        0        0         0   \n",
       "\n",
       "   DEBIT  PAYMENT  TRANSFER  \n",
       "0      0        1         0  \n",
       "1      0        1         0  "
      ]
     },
     "execution_count": 29,
     "metadata": {},
     "output_type": "execute_result"
    }
   ],
   "source": [
    "# drop other categorical data columns that were created for visualization purpose\n",
    "\n",
    "OPFD1.drop(['trans_amt_group',\n",
    "       'trans_org_oldbal_group', 'trans_org_newbal_group',\n",
    "       'recipient_oldbal_group', 'recipient_newbal_group', 'Fraud',\n",
    "       'step_brac'], axis = 1, inplace = True)\n",
    "\n",
    "OPFD1.head(2)"
   ]
  },
  {
   "cell_type": "code",
   "execution_count": 30,
   "id": "28142628",
   "metadata": {},
   "outputs": [],
   "source": [
    "OPFD1.drop('transaction_type', axis = 1, inplace = True)"
   ]
  },
  {
   "cell_type": "code",
   "execution_count": 31,
   "id": "3730dea2",
   "metadata": {},
   "outputs": [
    {
     "data": {
      "text/html": [
       "<div>\n",
       "<style scoped>\n",
       "    .dataframe tbody tr th:only-of-type {\n",
       "        vertical-align: middle;\n",
       "    }\n",
       "\n",
       "    .dataframe tbody tr th {\n",
       "        vertical-align: top;\n",
       "    }\n",
       "\n",
       "    .dataframe thead th {\n",
       "        text-align: right;\n",
       "    }\n",
       "</style>\n",
       "<table border=\"1\" class=\"dataframe\">\n",
       "  <thead>\n",
       "    <tr style=\"text-align: right;\">\n",
       "      <th></th>\n",
       "      <th>step</th>\n",
       "      <th>transaction_amount</th>\n",
       "      <th>transaction_originator_oldbalance</th>\n",
       "      <th>transaction_originator_newbalance</th>\n",
       "      <th>recipient_oldbalance</th>\n",
       "      <th>recipient_newbalance</th>\n",
       "      <th>isFraud</th>\n",
       "      <th>CASH_IN</th>\n",
       "      <th>CASH_OUT</th>\n",
       "      <th>DEBIT</th>\n",
       "      <th>PAYMENT</th>\n",
       "      <th>TRANSFER</th>\n",
       "    </tr>\n",
       "  </thead>\n",
       "  <tbody>\n",
       "    <tr>\n",
       "      <th>0</th>\n",
       "      <td>1</td>\n",
       "      <td>9839.64</td>\n",
       "      <td>170136.0</td>\n",
       "      <td>160296.36</td>\n",
       "      <td>0.0</td>\n",
       "      <td>0.0</td>\n",
       "      <td>0</td>\n",
       "      <td>0</td>\n",
       "      <td>0</td>\n",
       "      <td>0</td>\n",
       "      <td>1</td>\n",
       "      <td>0</td>\n",
       "    </tr>\n",
       "    <tr>\n",
       "      <th>1</th>\n",
       "      <td>1</td>\n",
       "      <td>1864.28</td>\n",
       "      <td>21249.0</td>\n",
       "      <td>19384.72</td>\n",
       "      <td>0.0</td>\n",
       "      <td>0.0</td>\n",
       "      <td>0</td>\n",
       "      <td>0</td>\n",
       "      <td>0</td>\n",
       "      <td>0</td>\n",
       "      <td>1</td>\n",
       "      <td>0</td>\n",
       "    </tr>\n",
       "  </tbody>\n",
       "</table>\n",
       "</div>"
      ],
      "text/plain": [
       "   step  transaction_amount  transaction_originator_oldbalance  \\\n",
       "0     1             9839.64                           170136.0   \n",
       "1     1             1864.28                            21249.0   \n",
       "\n",
       "   transaction_originator_newbalance  recipient_oldbalance  \\\n",
       "0                          160296.36                   0.0   \n",
       "1                           19384.72                   0.0   \n",
       "\n",
       "   recipient_newbalance  isFraud  CASH_IN  CASH_OUT  DEBIT  PAYMENT  TRANSFER  \n",
       "0                   0.0        0        0         0      0        1         0  \n",
       "1                   0.0        0        0         0      0        1         0  "
      ]
     },
     "execution_count": 31,
     "metadata": {},
     "output_type": "execute_result"
    }
   ],
   "source": [
    "OPFD1.head(2)"
   ]
  },
  {
   "cell_type": "markdown",
   "id": "92888fd0",
   "metadata": {},
   "source": [
    "### Choose  Target"
   ]
  },
  {
   "cell_type": "code",
   "execution_count": 32,
   "id": "417b7ae4",
   "metadata": {},
   "outputs": [],
   "source": [
    "y = OPFD1['isFraud'] \n",
    "X = OPFD1.drop('isFraud', axis=1)"
   ]
  },
  {
   "cell_type": "code",
   "execution_count": 33,
   "id": "c4de4d77",
   "metadata": {},
   "outputs": [
    {
     "data": {
      "text/plain": [
       "0    0\n",
       "1    0\n",
       "2    1\n",
       "3    1\n",
       "4    0\n",
       "Name: isFraud, dtype: int64"
      ]
     },
     "execution_count": 33,
     "metadata": {},
     "output_type": "execute_result"
    }
   ],
   "source": [
    "y.head()"
   ]
  },
  {
   "cell_type": "code",
   "execution_count": 34,
   "id": "26b5f03d",
   "metadata": {},
   "outputs": [
    {
     "data": {
      "text/html": [
       "<div>\n",
       "<style scoped>\n",
       "    .dataframe tbody tr th:only-of-type {\n",
       "        vertical-align: middle;\n",
       "    }\n",
       "\n",
       "    .dataframe tbody tr th {\n",
       "        vertical-align: top;\n",
       "    }\n",
       "\n",
       "    .dataframe thead th {\n",
       "        text-align: right;\n",
       "    }\n",
       "</style>\n",
       "<table border=\"1\" class=\"dataframe\">\n",
       "  <thead>\n",
       "    <tr style=\"text-align: right;\">\n",
       "      <th></th>\n",
       "      <th>step</th>\n",
       "      <th>transaction_amount</th>\n",
       "      <th>transaction_originator_oldbalance</th>\n",
       "      <th>transaction_originator_newbalance</th>\n",
       "      <th>recipient_oldbalance</th>\n",
       "      <th>recipient_newbalance</th>\n",
       "      <th>CASH_IN</th>\n",
       "      <th>CASH_OUT</th>\n",
       "      <th>DEBIT</th>\n",
       "      <th>PAYMENT</th>\n",
       "      <th>TRANSFER</th>\n",
       "    </tr>\n",
       "  </thead>\n",
       "  <tbody>\n",
       "    <tr>\n",
       "      <th>0</th>\n",
       "      <td>1</td>\n",
       "      <td>9839.64</td>\n",
       "      <td>170136.0</td>\n",
       "      <td>160296.36</td>\n",
       "      <td>0.0</td>\n",
       "      <td>0.0</td>\n",
       "      <td>0</td>\n",
       "      <td>0</td>\n",
       "      <td>0</td>\n",
       "      <td>1</td>\n",
       "      <td>0</td>\n",
       "    </tr>\n",
       "    <tr>\n",
       "      <th>1</th>\n",
       "      <td>1</td>\n",
       "      <td>1864.28</td>\n",
       "      <td>21249.0</td>\n",
       "      <td>19384.72</td>\n",
       "      <td>0.0</td>\n",
       "      <td>0.0</td>\n",
       "      <td>0</td>\n",
       "      <td>0</td>\n",
       "      <td>0</td>\n",
       "      <td>1</td>\n",
       "      <td>0</td>\n",
       "    </tr>\n",
       "    <tr>\n",
       "      <th>2</th>\n",
       "      <td>1</td>\n",
       "      <td>181.00</td>\n",
       "      <td>181.0</td>\n",
       "      <td>0.00</td>\n",
       "      <td>0.0</td>\n",
       "      <td>0.0</td>\n",
       "      <td>0</td>\n",
       "      <td>0</td>\n",
       "      <td>0</td>\n",
       "      <td>0</td>\n",
       "      <td>1</td>\n",
       "    </tr>\n",
       "    <tr>\n",
       "      <th>3</th>\n",
       "      <td>1</td>\n",
       "      <td>181.00</td>\n",
       "      <td>181.0</td>\n",
       "      <td>0.00</td>\n",
       "      <td>21182.0</td>\n",
       "      <td>0.0</td>\n",
       "      <td>0</td>\n",
       "      <td>1</td>\n",
       "      <td>0</td>\n",
       "      <td>0</td>\n",
       "      <td>0</td>\n",
       "    </tr>\n",
       "    <tr>\n",
       "      <th>4</th>\n",
       "      <td>1</td>\n",
       "      <td>11668.14</td>\n",
       "      <td>41554.0</td>\n",
       "      <td>29885.86</td>\n",
       "      <td>0.0</td>\n",
       "      <td>0.0</td>\n",
       "      <td>0</td>\n",
       "      <td>0</td>\n",
       "      <td>0</td>\n",
       "      <td>1</td>\n",
       "      <td>0</td>\n",
       "    </tr>\n",
       "  </tbody>\n",
       "</table>\n",
       "</div>"
      ],
      "text/plain": [
       "   step  transaction_amount  transaction_originator_oldbalance  \\\n",
       "0     1             9839.64                           170136.0   \n",
       "1     1             1864.28                            21249.0   \n",
       "2     1              181.00                              181.0   \n",
       "3     1              181.00                              181.0   \n",
       "4     1            11668.14                            41554.0   \n",
       "\n",
       "   transaction_originator_newbalance  recipient_oldbalance  \\\n",
       "0                          160296.36                   0.0   \n",
       "1                           19384.72                   0.0   \n",
       "2                               0.00                   0.0   \n",
       "3                               0.00               21182.0   \n",
       "4                           29885.86                   0.0   \n",
       "\n",
       "   recipient_newbalance  CASH_IN  CASH_OUT  DEBIT  PAYMENT  TRANSFER  \n",
       "0                   0.0        0         0      0        1         0  \n",
       "1                   0.0        0         0      0        1         0  \n",
       "2                   0.0        0         0      0        0         1  \n",
       "3                   0.0        0         1      0        0         0  \n",
       "4                   0.0        0         0      0        1         0  "
      ]
     },
     "execution_count": 34,
     "metadata": {},
     "output_type": "execute_result"
    }
   ],
   "source": [
    "X.head()"
   ]
  },
  {
   "cell_type": "markdown",
   "id": "3ecd7396",
   "metadata": {},
   "source": [
    "## Preparing the models\n",
    "\n",
    "### Train Test Split"
   ]
  },
  {
   "cell_type": "code",
   "execution_count": 35,
   "id": "c6f12cd6",
   "metadata": {},
   "outputs": [],
   "source": [
    "#Import train_test_split\n",
    "from sklearn.model_selection import train_test_split\n",
    "#split into training and validation sets using a 40% split ratio\n",
    "X_train,X_test,y_train,y_test = train_test_split(X,y,test_size=0.4)"
   ]
  },
  {
   "cell_type": "markdown",
   "id": "ae4360fb",
   "metadata": {},
   "source": [
    "###### Scaling data\n",
    "scaling of the data makes it easy for a model to learn and understand the problem, it also leads to more accurate results."
   ]
  },
  {
   "cell_type": "code",
   "execution_count": 36,
   "id": "03ee18e0",
   "metadata": {},
   "outputs": [],
   "source": [
    "# Import Standard Scaler\n",
    "\n",
    "from sklearn.preprocessing import StandardScaler"
   ]
  },
  {
   "cell_type": "code",
   "execution_count": 37,
   "id": "95847dcc",
   "metadata": {},
   "outputs": [],
   "source": [
    "#data scaling steps for train data set\n",
    "scaler = StandardScaler()\n",
    "X_train_scaled  =scaler.fit_transform(X_train)\n",
    "X_train = pd.DataFrame(X_train_scaled, index=X_train.index, columns = X_train.columns)"
   ]
  },
  {
   "cell_type": "code",
   "execution_count": 38,
   "id": "1c9e5506",
   "metadata": {},
   "outputs": [],
   "source": [
    "#data scaling test for test dataset\n",
    "X_test_scaled = scaler.transform(X_test)\n",
    "X_test = pd.DataFrame(X_test_scaled, index=X_test.index, columns = X_test.columns)"
   ]
  },
  {
   "cell_type": "markdown",
   "id": "19381eda",
   "metadata": {},
   "source": [
    "## Import ML algorithms and initialize them"
   ]
  },
  {
   "cell_type": "code",
   "execution_count": 39,
   "id": "032dbf71",
   "metadata": {},
   "outputs": [],
   "source": [
    "# Importation of necessary libraries\n",
    "\n",
    "# Machine Learning\n",
    "from sklearn.model_selection import cross_val_score, cross_val_predict\n",
    "\n",
    "#ML Algorithms\n",
    "from sklearn import svm\n",
    "from sklearn.neighbors import KNeighborsClassifier\n",
    "from sklearn.linear_model import LogisticRegression\n",
    "from sklearn.ensemble import RandomForestClassifier\n",
    "\n",
    "#ML Metrics\n",
    "from sklearn.metrics import accuracy_score, classification_report, precision_score, recall_score\n",
    "from sklearn.metrics import confusion_matrix\n"
   ]
  },
  {
   "cell_type": "code",
   "execution_count": 40,
   "id": "a2ef3ef9",
   "metadata": {},
   "outputs": [],
   "source": [
    "# initialization of Algorithms"
   ]
  },
  {
   "cell_type": "code",
   "execution_count": 41,
   "id": "944a3396",
   "metadata": {},
   "outputs": [],
   "source": [
    "#Create a svm Classifier (intialize)\n",
    "clf = svm.SVC(kernel='linear') # Linear Kernel"
   ]
  },
  {
   "cell_type": "code",
   "execution_count": 42,
   "id": "05b72c3e",
   "metadata": {},
   "outputs": [],
   "source": [
    "# Initialize algorithms KNeighborsClassifier\n",
    "\n",
    "KN = KNeighborsClassifier()"
   ]
  },
  {
   "cell_type": "code",
   "execution_count": 43,
   "id": "8f870c13",
   "metadata": {},
   "outputs": [],
   "source": [
    "# Initialize algorithms LogisticRegression\n",
    "LR = LogisticRegression()"
   ]
  },
  {
   "cell_type": "code",
   "execution_count": 44,
   "id": "4087be02",
   "metadata": {},
   "outputs": [],
   "source": [
    "RF = RandomForestClassifier()"
   ]
  },
  {
   "cell_type": "code",
   "execution_count": 45,
   "id": "9c440afd",
   "metadata": {},
   "outputs": [],
   "source": [
    "classifiers = [clf,KN,LR,RF]"
   ]
  },
  {
   "cell_type": "markdown",
   "id": "302ab9cd",
   "metadata": {},
   "source": [
    "## Train and Test the models"
   ]
  },
  {
   "cell_type": "code",
   "execution_count": 46,
   "id": "37589686",
   "metadata": {},
   "outputs": [],
   "source": [
    "# Create a function to train and evaluate model\n",
    "def trainer(model,X_train,y_train,X_test,y_test):\n",
    "    #fit the model\n",
    "    model.fit(X_train,y_train)\n",
    "    #predict on the fitted model\n",
    "    prediction = model.predict(X_test)\n",
    "    # print evaluation metrics\n",
    "    print('\\nFor {}, Accuracy score is {} \\n'.format(model.__class__.__name__,accuracy_score(prediction,y_test)))\n",
    "    print(classification_report(prediction,y_test)) "
   ]
  },
  {
   "cell_type": "code",
   "execution_count": 47,
   "id": "8af2120c",
   "metadata": {},
   "outputs": [
    {
     "name": "stdout",
     "output_type": "stream",
     "text": [
      "\n",
      "For SVC, Accuracy score is 0.9991154662279761 \n",
      "\n",
      "              precision    recall  f1-score   support\n",
      "\n",
      "           0       1.00      1.00      1.00    419323\n",
      "           1       0.22      1.00      0.37       107\n",
      "\n",
      "    accuracy                           1.00    419430\n",
      "   macro avg       0.61      1.00      0.68    419430\n",
      "weighted avg       1.00      1.00      1.00    419430\n",
      "\n",
      "\n",
      "For KNeighborsClassifier, Accuracy score is 0.9994325632405884 \n",
      "\n",
      "              precision    recall  f1-score   support\n",
      "\n",
      "           0       1.00      1.00      1.00    419174\n",
      "           1       0.52      0.97      0.68       256\n",
      "\n",
      "    accuracy                           1.00    419430\n",
      "   macro avg       0.76      0.98      0.84    419430\n",
      "weighted avg       1.00      1.00      1.00    419430\n",
      "\n",
      "\n",
      "For LogisticRegression, Accuracy score is 0.9991798393057244 \n",
      "\n",
      "              precision    recall  f1-score   support\n",
      "\n",
      "           0       1.00      1.00      1.00    419290\n",
      "           1       0.29      0.98      0.44       140\n",
      "\n",
      "    accuracy                           1.00    419430\n",
      "   macro avg       0.64      0.99      0.72    419430\n",
      "weighted avg       1.00      1.00      1.00    419430\n",
      "\n",
      "\n",
      "For RandomForestClassifier, Accuracy score is 0.9997234341844885 \n",
      "\n",
      "              precision    recall  f1-score   support\n",
      "\n",
      "           0       1.00      1.00      1.00    419060\n",
      "           1       0.77      0.99      0.86       370\n",
      "\n",
      "    accuracy                           1.00    419430\n",
      "   macro avg       0.88      0.99      0.93    419430\n",
      "weighted avg       1.00      1.00      1.00    419430\n",
      "\n"
     ]
    }
   ],
   "source": [
    "# loop through all models\n",
    "for model in classifiers:\n",
    "    trainer(model,X_train,y_train,X_test,y_test)"
   ]
  },
  {
   "cell_type": "markdown",
   "id": "276c2c5a",
   "metadata": {},
   "source": [
    "###### Evaluating with confusion matrix -  precision and recall"
   ]
  },
  {
   "cell_type": "code",
   "execution_count": 48,
   "id": "067a3c31",
   "metadata": {},
   "outputs": [
    {
     "data": {
      "image/png": "[encoded data removed]",
      "text/plain": [
       "<Figure size 504x360 with 1 Axes>"
      ]
     },
     "metadata": {
      "needs_background": "light"
     },
     "output_type": "display_data"
    },
    {
     "name": "stdout",
     "output_type": "stream",
     "text": [
      "Precision: 0.969\n",
      "Recall: 0.519\n"
     ]
    }
   ],
   "source": [
    "# Calculate the confusion matrix for KNeighborClassifier\n",
    "\n",
    "conf_matrix = confusion_matrix(y_true=y_test, y_pred=KN.predict(X_test))\n",
    "\n",
    "# Print the confusion matrix using Matplotlib\n",
    "\n",
    "fig, ax = plt.subplots(figsize=(7, 5))\n",
    "ax.matshow(conf_matrix, cmap=plt.cm.Oranges, alpha=0.3)\n",
    "for i in range(conf_matrix.shape[1]):\n",
    "    for j in range(conf_matrix.shape[0]):\n",
    "        ax.text(x=j, y=i,s=conf_matrix[i, j], va='center', ha='center', size='xx-large')\n",
    "        \n",
    "plt.xlabel('Predictions', fontsize=18)\n",
    "plt.ylabel('Actuals', fontsize=18)\n",
    "plt.title(' KNeighbor Confusion Matrix', fontsize=18)\n",
    "plt.show()\n",
    "\n",
    "print('Precision: %.3f' % precision_score(y_test, KN.predict(X_test)))\n",
    "print('Recall: %.3f' % recall_score(y_test, KN.predict(X_test)))"
   ]
  },
  {
   "cell_type": "code",
   "execution_count": 49,
   "id": "503c0ff5",
   "metadata": {},
   "outputs": [
    {
     "data": {
      "image/png": "[encoded data removed]",
      "text/plain": [
       "<Figure size 504x360 with 1 Axes>"
      ]
     },
     "metadata": {
      "needs_background": "light"
     },
     "output_type": "display_data"
    },
    {
     "name": "stdout",
     "output_type": "stream",
     "text": [
      "Precision: 1.000\n",
      "Recall: 0.224\n"
     ]
    }
   ],
   "source": [
    "# Calculate the confusion matrix for svm Classifier\n",
    "\n",
    "conf_matrix = confusion_matrix(y_true=y_test, y_pred=clf.predict(X_test))\n",
    "\n",
    "# Print the confusion matrix using Matplotlib\n",
    "\n",
    "fig, ax = plt.subplots(figsize=(7, 5))\n",
    "ax.matshow(conf_matrix, cmap=plt.cm.Oranges, alpha=0.3)\n",
    "for i in range(conf_matrix.shape[1]):\n",
    "    for j in range(conf_matrix.shape[0]):\n",
    "        ax.text(x=j, y=i,s=conf_matrix[i, j], va='center', ha='center', size='xx-large')\n",
    "        \n",
    "plt.xlabel('Predictions', fontsize=18)\n",
    "plt.ylabel('Actuals', fontsize=18)\n",
    "plt.title(' svm Confusion Matrix', fontsize=18)\n",
    "plt.show()\n",
    "\n",
    "print('Precision: %.3f' % precision_score(y_test, clf.predict(X_test)))\n",
    "print('Recall: %.3f' % recall_score(y_test, clf.predict(X_test)))"
   ]
  },
  {
   "cell_type": "code",
   "execution_count": 50,
   "id": "15c70cb4",
   "metadata": {},
   "outputs": [
    {
     "data": {
      "image/png": "[encoded data removed]",
      "text/plain": [
       "<Figure size 504x360 with 1 Axes>"
      ]
     },
     "metadata": {
      "needs_background": "light"
     },
     "output_type": "display_data"
    },
    {
     "name": "stdout",
     "output_type": "stream",
     "text": [
      "Precision: 0.979\n",
      "Recall: 0.287\n"
     ]
    }
   ],
   "source": [
    "# Calculate the confusion matrix for LogisticsRegressionClassifier\n",
    "\n",
    "conf_matrix = confusion_matrix(y_true=y_test, y_pred=LR.predict(X_test))\n",
    "\n",
    "# Print the confusion matrix using Matplotlib\n",
    "\n",
    "fig, ax = plt.subplots(figsize=(7, 5))\n",
    "ax.matshow(conf_matrix, cmap=plt.cm.Oranges, alpha=0.3)\n",
    "for i in range(conf_matrix.shape[1]):\n",
    "    for j in range(conf_matrix.shape[0]):\n",
    "        ax.text(x=j, y=i,s=conf_matrix[i, j], va='center', ha='center', size='xx-large')\n",
    "        \n",
    "plt.xlabel('Predictions', fontsize=18)\n",
    "plt.ylabel('Actuals', fontsize=18)\n",
    "plt.title('LogisticsRegression Confusion Matrix', fontsize=18)\n",
    "plt.show()\n",
    "\n",
    "print('Precision: %.3f' % precision_score(y_test, LR.predict(X_test)))\n",
    "print('Recall: %.3f' % recall_score(y_test, LR.predict(X_test)))"
   ]
  },
  {
   "cell_type": "code",
   "execution_count": 51,
   "id": "6c69295c",
   "metadata": {},
   "outputs": [
    {
     "data": {
      "image/png": "[encoded data removed]",
      "text/plain": [
       "<Figure size 504x360 with 1 Axes>"
      ]
     },
     "metadata": {
      "needs_background": "light"
     },
     "output_type": "display_data"
    },
    {
     "name": "stdout",
     "output_type": "stream",
     "text": [
      "Precision: 0.989\n",
      "Recall: 0.766\n"
     ]
    }
   ],
   "source": [
    "# Calculate the confusion matrix for RandomForestClassifier\n",
    "\n",
    "conf_matrix = confusion_matrix(y_true=y_test, y_pred=RF.predict(X_test))\n",
    "\n",
    "# Print the confusion matrix using Matplotlib\n",
    "\n",
    "fig, ax = plt.subplots(figsize=(7, 5))\n",
    "ax.matshow(conf_matrix, cmap=plt.cm.Oranges, alpha=0.3)\n",
    "for i in range(conf_matrix.shape[1]):\n",
    "    for j in range(conf_matrix.shape[0]):\n",
    "        ax.text(x=j, y=i,s=conf_matrix[i, j], va='center', ha='center', size='xx-large')\n",
    "        \n",
    "plt.xlabel('Predictions', fontsize=18)\n",
    "plt.ylabel('Actuals', fontsize=18)\n",
    "plt.title('RandomForest Confusion Matrix', fontsize=18)\n",
    "plt.show()\n",
    "\n",
    "print('Precision: %.3f' % precision_score(y_test, RF.predict(X_test)))\n",
    "print('Recall: %.3f' % recall_score(y_test, RF.predict(X_test)))"
   ]
  },
  {
   "cell_type": "markdown",
   "id": "0e0b26c2",
   "metadata": {},
   "source": [
    "### Inspect Feature Importances"
   ]
  },
  {
   "cell_type": "code",
   "execution_count": 52,
   "id": "895d527a",
   "metadata": {},
   "outputs": [
    {
     "data": {
      "image/png": "[encoded data removed]",
      "text/plain": [
       "<Figure size 432x288 with 1 Axes>"
      ]
     },
     "metadata": {
      "needs_background": "light"
     },
     "output_type": "display_data"
    }
   ],
   "source": [
    "#get feature importances\n",
    "RF_importances = pd.DataFrame(data = RF.feature_importances_,index = X_test.columns, columns=['Importance'])\n",
    "\n",
    "#plot top 5 feature importances, sorted\n",
    "RF_importances[:5].sort_values(by='Importance').plot.barh()\n",
    "\n",
    "plt.title('Feature importances for Random Forest')\n",
    "plt.show()"
   ]
  },
  {
   "cell_type": "code",
   "execution_count": 53,
   "id": "5e3cbcdc",
   "metadata": {},
   "outputs": [
    {
     "data": {
      "text/plain": [
       "array(['transaction_originator_newbalance', 'recipient_oldbalance',\n",
       "       'transaction_amount', 'transaction_originator_oldbalance', 'step'],\n",
       "      dtype=object)"
      ]
     },
     "execution_count": 53,
     "metadata": {},
     "output_type": "execute_result"
    }
   ],
   "source": [
    "#get these top 5 importances\n",
    "RF_importances[:5].sort_values(by='Importance').index.values"
   ]
  },
  {
   "cell_type": "markdown",
   "id": "66823ece",
   "metadata": {},
   "source": [
    "### A Bit of Feature Selection"
   ]
  },
  {
   "cell_type": "code",
   "execution_count": 54,
   "id": "0a856921",
   "metadata": {},
   "outputs": [
    {
     "data": {
      "text/html": [
       "<div>\n",
       "<style scoped>\n",
       "    .dataframe tbody tr th:only-of-type {\n",
       "        vertical-align: middle;\n",
       "    }\n",
       "\n",
       "    .dataframe tbody tr th {\n",
       "        vertical-align: top;\n",
       "    }\n",
       "\n",
       "    .dataframe thead th {\n",
       "        text-align: right;\n",
       "    }\n",
       "</style>\n",
       "<table border=\"1\" class=\"dataframe\">\n",
       "  <thead>\n",
       "    <tr style=\"text-align: right;\">\n",
       "      <th></th>\n",
       "      <th>step</th>\n",
       "      <th>transaction_originator_oldbalance</th>\n",
       "      <th>transaction_amount</th>\n",
       "      <th>recipient_oldbalance</th>\n",
       "      <th>transaction_originator_newbalance</th>\n",
       "    </tr>\n",
       "  </thead>\n",
       "  <tbody>\n",
       "    <tr>\n",
       "      <th>615267</th>\n",
       "      <td>0.449877</td>\n",
       "      <td>-0.294978</td>\n",
       "      <td>-0.552918</td>\n",
       "      <td>-0.424744</td>\n",
       "      <td>-0.298041</td>\n",
       "    </tr>\n",
       "    <tr>\n",
       "      <th>412022</th>\n",
       "      <td>-0.573441</td>\n",
       "      <td>-0.291040</td>\n",
       "      <td>-0.538115</td>\n",
       "      <td>-0.424744</td>\n",
       "      <td>-0.298041</td>\n",
       "    </tr>\n",
       "  </tbody>\n",
       "</table>\n",
       "</div>"
      ],
      "text/plain": [
       "            step  transaction_originator_oldbalance  transaction_amount  \\\n",
       "615267  0.449877                          -0.294978           -0.552918   \n",
       "412022 -0.573441                          -0.291040           -0.538115   \n",
       "\n",
       "        recipient_oldbalance  transaction_originator_newbalance  \n",
       "615267             -0.424744                          -0.298041  \n",
       "412022             -0.424744                          -0.298041  "
      ]
     },
     "execution_count": 54,
     "metadata": {},
     "output_type": "execute_result"
    }
   ],
   "source": [
    "#create a new X train with only 5 features\n",
    "X_train2 = X_train[['step', 'transaction_originator_oldbalance', 'transaction_amount', 'recipient_oldbalance', \n",
    "                    'transaction_originator_newbalance']]\n",
    "X_train2.head(2)"
   ]
  },
  {
   "cell_type": "code",
   "execution_count": 55,
   "id": "eabf1d82",
   "metadata": {},
   "outputs": [],
   "source": [
    "X_test2 = X_test[['step', 'transaction_originator_oldbalance', 'transaction_amount', 'recipient_oldbalance', \n",
    "                    'transaction_originator_newbalance']]"
   ]
  },
  {
   "cell_type": "code",
   "execution_count": 56,
   "id": "108035ae",
   "metadata": {},
   "outputs": [
    {
     "name": "stdout",
     "output_type": "stream",
     "text": [
      "0.9996185299096393\n"
     ]
    }
   ],
   "source": [
    "#train and predict\n",
    "RF.fit(X_train2,y_train)\n",
    "prediction2 = RF.predict(X_test2)\n",
    "\n",
    "print(accuracy_score(prediction2,y_test))"
   ]
  },
  {
   "cell_type": "markdown",
   "id": "26124a00",
   "metadata": {},
   "source": [
    "### Evaluating with Cross Validation\n",
    "\n",
    "In cross validation, the model splits the training data into multiple blocks. Using 1 block as test set for each training iteration, it trains the other blocks and validates against the test data.\n",
    "\n",
    "It helps to compare and select an appropriate model for the specific predictive modeling problem."
   ]
  },
  {
   "cell_type": "code",
   "execution_count": 57,
   "id": "69287d4d",
   "metadata": {},
   "outputs": [],
   "source": [
    "# evaluate your models using k-fold cross-validation\n",
    "from numpy import mean\n",
    "from numpy import std\n",
    "from sklearn.model_selection import KFold\n",
    "from sklearn.model_selection import cross_val_score, cross_val_predict\n",
    "from sklearn.linear_model import LogisticRegression\n",
    "\n",
    "# prepare the cross-validation procedure\n",
    "cv = KFold(n_splits=5, random_state=2, shuffle=True)"
   ]
  },
  {
   "cell_type": "code",
   "execution_count": 58,
   "id": "7d269587",
   "metadata": {},
   "outputs": [],
   "source": [
    "#create function to train a model with cross validations and evaluate accuracy\n",
    "def trainer_with_cv(model,X,y):\n",
    "    '''Cross validation function. Expects a model,'''\n",
    "    # evaluate model\n",
    "    scores = cross_val_score(model, X, y, scoring='accuracy', cv=cv, n_jobs=-1)\n",
    "    # report performance\n",
    "    print('\\nFor {}, Accuracy score is {} \\n'.format(model.__class__.__name__,mean(scores)))\n",
    "    "
   ]
  },
  {
   "cell_type": "code",
   "execution_count": 59,
   "id": "513b9884",
   "metadata": {},
   "outputs": [
    {
     "name": "stdout",
     "output_type": "stream",
     "text": [
      "\n",
      "For SVC, Accuracy score is 0.9991289766270096 \n",
      "\n",
      "\n",
      "For KNeighborsClassifier, Accuracy score is 0.9994405105341377 \n",
      "\n",
      "\n",
      "For LogisticRegression, Accuracy score is 0.9991703025534655 \n",
      "\n",
      "\n",
      "For RandomForestClassifier, Accuracy score is 0.9996423717902868 \n",
      "\n"
     ]
    }
   ],
   "source": [
    "#train and predict, looping through the list of models\n",
    "for model in classifiers:\n",
    "    trainer_with_cv(model,X_train2,y_train)\n",
    "    "
   ]
  },
  {
   "cell_type": "code",
   "execution_count": 60,
   "id": "fa7be6dc",
   "metadata": {},
   "outputs": [],
   "source": [
    "#create function to train a model with cross validations and evaluate precision\n",
    "def trainer_with_cv(model,X,y):\n",
    "    '''Cross validation function. Expects a model,'''\n",
    "    # evaluate model\n",
    "    scores = cross_val_score(model, X, y, scoring='precision', cv=cv, n_jobs=-1)\n",
    "    # report performance\n",
    "    print('\\nFor {}, Precision is {} \\n'.format(model.__class__.__name__,mean(scores)))"
   ]
  },
  {
   "cell_type": "code",
   "execution_count": 61,
   "id": "56908f7a",
   "metadata": {},
   "outputs": [
    {
     "name": "stdout",
     "output_type": "stream",
     "text": [
      "\n",
      "For SVC, Precision is 0.9916666666666668 \n",
      "\n",
      "\n",
      "For KNeighborsClassifier, Precision is 0.9757575757575758 \n",
      "\n",
      "\n",
      "For LogisticRegression, Precision is 0.91281045751634 \n",
      "\n",
      "\n",
      "For RandomForestClassifier, Precision is 0.9731721115925799 \n",
      "\n"
     ]
    }
   ],
   "source": [
    "#train and predict, looping through the list of models\n",
    "for model in classifiers:\n",
    "    trainer_with_cv(model,X_train2,y_train)"
   ]
  },
  {
   "cell_type": "code",
   "execution_count": 62,
   "id": "e92a7cfc",
   "metadata": {},
   "outputs": [],
   "source": [
    "#create function to train a model with cross validations and evaluate recall\n",
    "def trainer_with_cv(model,X,y):\n",
    "    '''Cross validation function. Expects a model,'''\n",
    "    # evaluate model\n",
    "    scores = cross_val_score(model, X, y, scoring='recall', cv=cv, n_jobs=-1)\n",
    "    # report performance\n",
    "    print('\\nFor {}, Recall is {} \\n'.format(model.__class__.__name__,mean(scores)))"
   ]
  },
  {
   "cell_type": "code",
   "execution_count": 63,
   "id": "49a48200",
   "metadata": {},
   "outputs": [
    {
     "name": "stdout",
     "output_type": "stream",
     "text": [
      "\n",
      "For SVC, Recall is 0.1769344951587283 \n",
      "\n",
      "\n",
      "For KNeighborsClassifier, Recall is 0.48251000286174045 \n",
      "\n",
      "\n",
      "For LogisticRegression, Recall is 0.2388696163127603 \n",
      "\n",
      "\n",
      "For RandomForestClassifier, Recall is 0.6870721949729691 \n",
      "\n"
     ]
    }
   ],
   "source": [
    "#train and predict, looping through the list of models\n",
    "for model in classifiers:\n",
    "    trainer_with_cv(model,X_train2,y_train)"
   ]
  },
  {
   "cell_type": "markdown",
   "id": "de9ea4ae",
   "metadata": {},
   "source": [
    "## Interpret Results\n",
    "\n"
   ]
  },
  {
   "cell_type": "markdown",
   "id": "4e724aed",
   "metadata": {},
   "source": [
    "* The purpose of this project is to predict online payment fraud. \n",
    "* The best model that predicts with lesser error is to be chosen, subjecting them to the different evaluation metrics including k-fold cross validation (accuracy, precision and recall). \n",
    "* The confusion matrix displays the error value for each model in terms of False Positive (Where the model predicts an online payment to be fraud when they actually aren't Fraud - Precision) and False Negative (Where the model predicts an online payment not to be fraud where as it's fraud - Recall). \n",
    "* After Cross Validation, the model with the highest recall will be deployed. Recall is the most relevant matrix for evaluation in this business problem. This is because, the effect of the error (Recall) on the business if not addressed will be massive compared to that of Precision."
   ]
  },
  {
   "cell_type": "markdown",
   "id": "bffecdf6",
   "metadata": {},
   "source": [
    "## Summary\n",
    "\n",
    "Model to deploy for BB PLC"
   ]
  },
  {
   "cell_type": "markdown",
   "id": "c61c2da6",
   "metadata": {},
   "source": [
    "RandomForest Classifier: For this business problem, Recall score is of more relevancy and RandomForest Classifier has highest recall score compared to other models. Hence, It should be deployed by Blossom Bank PLC for Online Payment Fraud detection, as it has 68% Recall and Accuracy score of 99%."
   ]
  },
  {
   "cell_type": "code",
   "execution_count": null,
   "id": "b0d6a896",
   "metadata": {},
   "outputs": [],
   "source": []
  }
 ],
 "metadata": {
  "kernelspec": {
   "display_name": "Python 3 (ipykernel)",
   "language": "python",
   "name": "python3"
  },
  "language_info": {
   "codemirror_mode": {
    "name": "ipython",
    "version": 3
   },
   "file_extension": ".py",
   "mimetype": "text/x-python",
   "name": "python",
   "nbconvert_exporter": "python",
   "pygments_lexer": "ipython3",
   "version": "3.9.12"
  }
 },
 "nbformat": 4,
 "nbformat_minor": 5
}
